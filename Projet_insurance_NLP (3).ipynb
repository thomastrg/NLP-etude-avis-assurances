{
  "cells": [
    {
      "cell_type": "markdown",
      "metadata": {
        "id": "SkmJkiNsnwde"
      },
      "source": [
        "---\n",
        "# Import libraries\n",
        "---"
      ]
    },
    {
      "cell_type": "code",
      "source": [
        "!pip install transformers"
      ],
      "metadata": {
        "id": "6wtCkp0qqgTU",
        "colab": {
          "base_uri": "https://localhost:8080/"
        },
        "outputId": "a1b52b17-dcac-4230-da7e-2db5c2f4ebfb"
      },
      "execution_count": null,
      "outputs": [
        {
          "output_type": "stream",
          "name": "stdout",
          "text": [
            "Collecting transformers\n",
            "  Downloading transformers-4.15.0-py3-none-any.whl (3.4 MB)\n",
            "\u001b[K     |████████████████████████████████| 3.4 MB 5.3 MB/s \n",
            "\u001b[?25hRequirement already satisfied: importlib-metadata in /usr/local/lib/python3.7/dist-packages (from transformers) (4.8.2)\n",
            "Requirement already satisfied: filelock in /usr/local/lib/python3.7/dist-packages (from transformers) (3.4.0)\n",
            "Collecting huggingface-hub<1.0,>=0.1.0\n",
            "  Downloading huggingface_hub-0.2.1-py3-none-any.whl (61 kB)\n",
            "\u001b[K     |████████████████████████████████| 61 kB 255 kB/s \n",
            "\u001b[?25hRequirement already satisfied: numpy>=1.17 in /usr/local/lib/python3.7/dist-packages (from transformers) (1.19.5)\n",
            "Collecting sacremoses\n",
            "  Downloading sacremoses-0.0.46-py3-none-any.whl (895 kB)\n",
            "\u001b[K     |████████████████████████████████| 895 kB 36.5 MB/s \n",
            "\u001b[?25hRequirement already satisfied: regex!=2019.12.17 in /usr/local/lib/python3.7/dist-packages (from transformers) (2019.12.20)\n",
            "Requirement already satisfied: packaging>=20.0 in /usr/local/lib/python3.7/dist-packages (from transformers) (21.3)\n",
            "Requirement already satisfied: requests in /usr/local/lib/python3.7/dist-packages (from transformers) (2.23.0)\n",
            "Collecting tokenizers<0.11,>=0.10.1\n",
            "  Downloading tokenizers-0.10.3-cp37-cp37m-manylinux_2_5_x86_64.manylinux1_x86_64.manylinux_2_12_x86_64.manylinux2010_x86_64.whl (3.3 MB)\n",
            "\u001b[K     |████████████████████████████████| 3.3 MB 30.5 MB/s \n",
            "\u001b[?25hRequirement already satisfied: tqdm>=4.27 in /usr/local/lib/python3.7/dist-packages (from transformers) (4.62.3)\n",
            "Collecting pyyaml>=5.1\n",
            "  Downloading PyYAML-6.0-cp37-cp37m-manylinux_2_5_x86_64.manylinux1_x86_64.manylinux_2_12_x86_64.manylinux2010_x86_64.whl (596 kB)\n",
            "\u001b[K     |████████████████████████████████| 596 kB 35.7 MB/s \n",
            "\u001b[?25hRequirement already satisfied: typing-extensions>=3.7.4.3 in /usr/local/lib/python3.7/dist-packages (from huggingface-hub<1.0,>=0.1.0->transformers) (3.10.0.2)\n",
            "Requirement already satisfied: pyparsing!=3.0.5,>=2.0.2 in /usr/local/lib/python3.7/dist-packages (from packaging>=20.0->transformers) (3.0.6)\n",
            "Requirement already satisfied: zipp>=0.5 in /usr/local/lib/python3.7/dist-packages (from importlib-metadata->transformers) (3.6.0)\n",
            "Requirement already satisfied: certifi>=2017.4.17 in /usr/local/lib/python3.7/dist-packages (from requests->transformers) (2021.10.8)\n",
            "Requirement already satisfied: idna<3,>=2.5 in /usr/local/lib/python3.7/dist-packages (from requests->transformers) (2.10)\n",
            "Requirement already satisfied: chardet<4,>=3.0.2 in /usr/local/lib/python3.7/dist-packages (from requests->transformers) (3.0.4)\n",
            "Requirement already satisfied: urllib3!=1.25.0,!=1.25.1,<1.26,>=1.21.1 in /usr/local/lib/python3.7/dist-packages (from requests->transformers) (1.24.3)\n",
            "Requirement already satisfied: six in /usr/local/lib/python3.7/dist-packages (from sacremoses->transformers) (1.15.0)\n",
            "Requirement already satisfied: click in /usr/local/lib/python3.7/dist-packages (from sacremoses->transformers) (7.1.2)\n",
            "Requirement already satisfied: joblib in /usr/local/lib/python3.7/dist-packages (from sacremoses->transformers) (1.1.0)\n",
            "Installing collected packages: pyyaml, tokenizers, sacremoses, huggingface-hub, transformers\n",
            "  Attempting uninstall: pyyaml\n",
            "    Found existing installation: PyYAML 3.13\n",
            "    Uninstalling PyYAML-3.13:\n",
            "      Successfully uninstalled PyYAML-3.13\n",
            "Successfully installed huggingface-hub-0.2.1 pyyaml-6.0 sacremoses-0.0.46 tokenizers-0.10.3 transformers-4.15.0\n"
          ]
        }
      ]
    },
    {
      "cell_type": "code",
      "execution_count": null,
      "metadata": {
        "colab": {
          "base_uri": "https://localhost:8080/"
        },
        "id": "et2maL-pnwdh",
        "outputId": "e1d3f148-11d3-4c37-92ad-05972bfcb79d"
      },
      "outputs": [
        {
          "output_type": "stream",
          "name": "stdout",
          "text": [
            "[nltk_data] Downloading package punkt to /root/nltk_data...\n",
            "[nltk_data]   Unzipping tokenizers/punkt.zip.\n",
            "[nltk_data] Downloading package stopwords to /root/nltk_data...\n",
            "[nltk_data]   Unzipping corpora/stopwords.zip.\n",
            "[nltk_data] Downloading package wordnet to /root/nltk_data...\n",
            "[nltk_data]   Unzipping corpora/wordnet.zip.\n",
            "[nltk_data] Downloading package stopwords to /root/nltk_data...\n",
            "[nltk_data]   Package stopwords is already up-to-date!\n",
            "[nltk_data] Downloading package averaged_perceptron_tagger to\n",
            "[nltk_data]     /root/nltk_data...\n",
            "[nltk_data]   Unzipping taggers/averaged_perceptron_tagger.zip.\n"
          ]
        }
      ],
      "source": [
        "#Fundamentals\n",
        "import pandas as pd\n",
        "import re\n",
        "from datetime import datetime\n",
        "import numpy as np\n",
        "\n",
        "#Data visualisation\n",
        "import seaborn as sns \n",
        "from wordcloud import WordCloud, STOPWORDS, ImageColorGenerator\n",
        "import matplotlib.pyplot as plt\n",
        "\n",
        "#NLP processing\n",
        "import nltk\n",
        "from nltk.corpus import stopwords\n",
        "from nltk.tokenize import sent_tokenize, word_tokenize\n",
        "from nltk.stem import PorterStemmer, WordNetLemmatizer\n",
        "from nltk.tag import UnigramTagger,pos_tag\n",
        "from nltk import bigrams, ngrams\n",
        "nltk.download('punkt')\n",
        "nltk.download('stopwords')\n",
        "nltk.download('wordnet')\n",
        "nltk.download('stopwords')\n",
        "nltk.download('averaged_perceptron_tagger')\n",
        "\n",
        "#Processing\n",
        "from sklearn.model_selection import train_test_split\n",
        "\n",
        "# Modeling\n",
        "from gensim.models import Word2Vec\n",
        "from transformers import pipeline\n",
        "from sklearn.cluster import KMeans\n",
        "from sklearn.decomposition import PCA\n",
        "\n",
        "from sklearn import linear_model\n",
        "from sklearn.metrics import r2_score,mean_squared_error\n",
        "from sklearn.linear_model import Ridge\n",
        "from sklearn.model_selection import GridSearchCV\n",
        "from sklearn.linear_model import Lasso\n",
        "from sklearn.svm import SVR\n",
        "from sklearn.tree import DecisionTreeRegressor\n",
        "from sklearn.ensemble import RandomForestRegressor\n",
        "from sklearn.ensemble import ExtraTreesRegressor"
      ]
    },
    {
      "cell_type": "markdown",
      "metadata": {
        "id": "FO_9zrwrnwdk"
      },
      "source": [
        "---\n",
        "# Data Importation\n",
        "---"
      ]
    },
    {
      "cell_type": "code",
      "execution_count": null,
      "metadata": {
        "id": "8YWe3eXhnwdl"
      },
      "outputs": [],
      "source": [
        "df = pd.read_csv('https://raw.githubusercontent.com/thomastrg/NLP_insurance_project/main/avisassurance_train.csv',sep=\";\")"
      ]
    },
    {
      "cell_type": "code",
      "execution_count": null,
      "metadata": {
        "jupyter": {
          "outputs_hidden": true
        },
        "scrolled": true,
        "colab": {
          "base_uri": "https://localhost:8080/",
          "height": 206
        },
        "id": "tHt-QWvLnwdm",
        "outputId": "f6c31dbc-6d77-42bd-8c0a-72d926808553"
      },
      "outputs": [
        {
          "output_type": "execute_result",
          "data": {
            "text/html": [
              "\n",
              "  <div id=\"df-8a6132d5-34d7-4327-9935-e76ccbf77d04\">\n",
              "    <div class=\"colab-df-container\">\n",
              "      <div>\n",
              "<style scoped>\n",
              "    .dataframe tbody tr th:only-of-type {\n",
              "        vertical-align: middle;\n",
              "    }\n",
              "\n",
              "    .dataframe tbody tr th {\n",
              "        vertical-align: top;\n",
              "    }\n",
              "\n",
              "    .dataframe thead th {\n",
              "        text-align: right;\n",
              "    }\n",
              "</style>\n",
              "<table border=\"1\" class=\"dataframe\">\n",
              "  <thead>\n",
              "    <tr style=\"text-align: right;\">\n",
              "      <th></th>\n",
              "      <th>date</th>\n",
              "      <th>note</th>\n",
              "      <th>auteur</th>\n",
              "      <th>avis</th>\n",
              "      <th>assureur</th>\n",
              "      <th>produit</th>\n",
              "    </tr>\n",
              "  </thead>\n",
              "  <tbody>\n",
              "    <tr>\n",
              "      <th>0</th>\n",
              "      <td>06 septem...</td>\n",
              "      <td>5</td>\n",
              "      <td>brahim--k-131532</td>\n",
              "      <td>Meilleurs assurances, prix, solutions, écoute,...</td>\n",
              "      <td>Direct Assurance</td>\n",
              "      <td>auto</td>\n",
              "    </tr>\n",
              "    <tr>\n",
              "      <th>1</th>\n",
              "      <td>03 mai 20...</td>\n",
              "      <td>4</td>\n",
              "      <td>bernard-g-112497</td>\n",
              "      <td>je suis globalement satisfait , sauf que vous ...</td>\n",
              "      <td>Direct Assurance</td>\n",
              "      <td>auto</td>\n",
              "    </tr>\n",
              "    <tr>\n",
              "      <th>2</th>\n",
              "      <td>21 mars 2...</td>\n",
              "      <td>5</td>\n",
              "      <td>virginie-t-107352</td>\n",
              "      <td>Prix tres abordable plusieurs options s'offren...</td>\n",
              "      <td>Direct Assurance</td>\n",
              "      <td>auto</td>\n",
              "    </tr>\n",
              "    <tr>\n",
              "      <th>3</th>\n",
              "      <td>10 juin 2...</td>\n",
              "      <td>4</td>\n",
              "      <td>boulain-f-116580</td>\n",
              "      <td>je satisfait du service, une réponse très rapi...</td>\n",
              "      <td>L'olivier Assurance</td>\n",
              "      <td>auto</td>\n",
              "    </tr>\n",
              "    <tr>\n",
              "      <th>4</th>\n",
              "      <td>29 janvie...</td>\n",
              "      <td>1</td>\n",
              "      <td>ouaille31-51798</td>\n",
              "      <td>Client depuis plus de 25 ans, très déçu de cet...</td>\n",
              "      <td>Matmut</td>\n",
              "      <td>auto</td>\n",
              "    </tr>\n",
              "  </tbody>\n",
              "</table>\n",
              "</div>\n",
              "      <button class=\"colab-df-convert\" onclick=\"convertToInteractive('df-8a6132d5-34d7-4327-9935-e76ccbf77d04')\"\n",
              "              title=\"Convert this dataframe to an interactive table.\"\n",
              "              style=\"display:none;\">\n",
              "        \n",
              "  <svg xmlns=\"http://www.w3.org/2000/svg\" height=\"24px\"viewBox=\"0 0 24 24\"\n",
              "       width=\"24px\">\n",
              "    <path d=\"M0 0h24v24H0V0z\" fill=\"none\"/>\n",
              "    <path d=\"M18.56 5.44l.94 2.06.94-2.06 2.06-.94-2.06-.94-.94-2.06-.94 2.06-2.06.94zm-11 1L8.5 8.5l.94-2.06 2.06-.94-2.06-.94L8.5 2.5l-.94 2.06-2.06.94zm10 10l.94 2.06.94-2.06 2.06-.94-2.06-.94-.94-2.06-.94 2.06-2.06.94z\"/><path d=\"M17.41 7.96l-1.37-1.37c-.4-.4-.92-.59-1.43-.59-.52 0-1.04.2-1.43.59L10.3 9.45l-7.72 7.72c-.78.78-.78 2.05 0 2.83L4 21.41c.39.39.9.59 1.41.59.51 0 1.02-.2 1.41-.59l7.78-7.78 2.81-2.81c.8-.78.8-2.07 0-2.86zM5.41 20L4 18.59l7.72-7.72 1.47 1.35L5.41 20z\"/>\n",
              "  </svg>\n",
              "      </button>\n",
              "      \n",
              "  <style>\n",
              "    .colab-df-container {\n",
              "      display:flex;\n",
              "      flex-wrap:wrap;\n",
              "      gap: 12px;\n",
              "    }\n",
              "\n",
              "    .colab-df-convert {\n",
              "      background-color: #E8F0FE;\n",
              "      border: none;\n",
              "      border-radius: 50%;\n",
              "      cursor: pointer;\n",
              "      display: none;\n",
              "      fill: #1967D2;\n",
              "      height: 32px;\n",
              "      padding: 0 0 0 0;\n",
              "      width: 32px;\n",
              "    }\n",
              "\n",
              "    .colab-df-convert:hover {\n",
              "      background-color: #E2EBFA;\n",
              "      box-shadow: 0px 1px 2px rgba(60, 64, 67, 0.3), 0px 1px 3px 1px rgba(60, 64, 67, 0.15);\n",
              "      fill: #174EA6;\n",
              "    }\n",
              "\n",
              "    [theme=dark] .colab-df-convert {\n",
              "      background-color: #3B4455;\n",
              "      fill: #D2E3FC;\n",
              "    }\n",
              "\n",
              "    [theme=dark] .colab-df-convert:hover {\n",
              "      background-color: #434B5C;\n",
              "      box-shadow: 0px 1px 3px 1px rgba(0, 0, 0, 0.15);\n",
              "      filter: drop-shadow(0px 1px 2px rgba(0, 0, 0, 0.3));\n",
              "      fill: #FFFFFF;\n",
              "    }\n",
              "  </style>\n",
              "\n",
              "      <script>\n",
              "        const buttonEl =\n",
              "          document.querySelector('#df-8a6132d5-34d7-4327-9935-e76ccbf77d04 button.colab-df-convert');\n",
              "        buttonEl.style.display =\n",
              "          google.colab.kernel.accessAllowed ? 'block' : 'none';\n",
              "\n",
              "        async function convertToInteractive(key) {\n",
              "          const element = document.querySelector('#df-8a6132d5-34d7-4327-9935-e76ccbf77d04');\n",
              "          const dataTable =\n",
              "            await google.colab.kernel.invokeFunction('convertToInteractive',\n",
              "                                                     [key], {});\n",
              "          if (!dataTable) return;\n",
              "\n",
              "          const docLinkHtml = 'Like what you see? Visit the ' +\n",
              "            '<a target=\"_blank\" href=https://colab.research.google.com/notebooks/data_table.ipynb>data table notebook</a>'\n",
              "            + ' to learn more about interactive tables.';\n",
              "          element.innerHTML = '';\n",
              "          dataTable['output_type'] = 'display_data';\n",
              "          await google.colab.output.renderOutput(dataTable, element);\n",
              "          const docLink = document.createElement('div');\n",
              "          docLink.innerHTML = docLinkHtml;\n",
              "          element.appendChild(docLink);\n",
              "        }\n",
              "      </script>\n",
              "    </div>\n",
              "  </div>\n",
              "  "
            ],
            "text/plain": [
              "                                                date  ...  produit\n",
              "0                                       06 septem...  ...     auto\n",
              "1                                       03 mai 20...  ...     auto\n",
              "2                                       21 mars 2...  ...     auto\n",
              "3                                       10 juin 2...  ...     auto\n",
              "4                                       29 janvie...  ...     auto\n",
              "\n",
              "[5 rows x 6 columns]"
            ]
          },
          "metadata": {},
          "execution_count": 4
        }
      ],
      "source": [
        "df.head()"
      ]
    },
    {
      "cell_type": "markdown",
      "metadata": {
        "id": "7pg0GLZmnwdq"
      },
      "source": [
        "---\n",
        "# Data processing \n",
        "---"
      ]
    },
    {
      "cell_type": "code",
      "execution_count": null,
      "metadata": {
        "id": "6WmE1wGUnwds"
      },
      "outputs": [],
      "source": [
        "df['date'] = df['date'].apply(lambda x: x.strip())"
      ]
    },
    {
      "cell_type": "markdown",
      "metadata": {
        "id": "l8TvfJyynwdt"
      },
      "source": [
        "---\n",
        "## Processing dates column\n",
        "---"
      ]
    },
    {
      "cell_type": "code",
      "execution_count": null,
      "metadata": {
        "id": "HYl-xmlqnwdt"
      },
      "outputs": [],
      "source": [
        "def get_dates(data):\n",
        "    \n",
        "    reg_ = re.match(\"(\\d+) (.+) suite à une expérience en (.+)\",data).groups()\n",
        "    \n",
        "    return reg_[1], reg_[2]"
      ]
    },
    {
      "cell_type": "code",
      "execution_count": null,
      "metadata": {
        "id": "gh6hGSWrnwdu"
      },
      "outputs": [],
      "source": [
        "all_dates = list(df['date'].apply(get_dates))"
      ]
    },
    {
      "cell_type": "code",
      "execution_count": null,
      "metadata": {
        "id": "TNb7dDe-nwdu"
      },
      "outputs": [],
      "source": [
        "rate_date = [x[0] for x in all_dates]\n",
        "exp_date = [x[1] for x in all_dates]"
      ]
    },
    {
      "cell_type": "code",
      "execution_count": null,
      "metadata": {
        "scrolled": true,
        "colab": {
          "base_uri": "https://localhost:8080/"
        },
        "id": "k4QM6utvnwdu",
        "outputId": "fb8b88a5-d3ed-425b-c45f-221be2f34fb1"
      },
      "outputs": [
        {
          "output_type": "stream",
          "name": "stdout",
          "text": [
            "203\n"
          ]
        }
      ],
      "source": [
        "# Number of different textual rate date and experience date\n",
        "cnt = 0\n",
        "for i in range(len(rate_date)):\n",
        "    if rate_date[i] != exp_date[i]:\n",
        "        cnt += 1\n",
        "        \n",
        "print(cnt)"
      ]
    },
    {
      "cell_type": "markdown",
      "metadata": {
        "id": "mC9hVaVTnwdu"
      },
      "source": [
        "---\n",
        "### Mapping textual date to numeric\n",
        "---"
      ]
    },
    {
      "cell_type": "code",
      "execution_count": null,
      "metadata": {
        "id": "z0XLmWw_nwdv"
      },
      "outputs": [],
      "source": [
        "tmp = pd.Series([x.split()[0] for x in rate_date]).unique()"
      ]
    },
    {
      "cell_type": "code",
      "execution_count": null,
      "metadata": {
        "id": "TFYJEBLXnwdv"
      },
      "outputs": [],
      "source": [
        "def to_dtime(data):\n",
        "    \n",
        "    map_month = {'janvier' : 1,\n",
        "            'février' : 2,\n",
        "            'mars' : 3,\n",
        "            'avril' : 4,\n",
        "            'mai' : 5,\n",
        "            'juin' : 6,\n",
        "            'juillet' : 7,\n",
        "            'août' : 8,\n",
        "            'septembre' : 9,\n",
        "            'octobre' : 10,\n",
        "            'novembre' : 11,\n",
        "            'décembre' : 12}\n",
        "    \n",
        "    split = data.split()\n",
        "    split[0] = str(map_month[split[0]])\n",
        "    new_data = \"/\".join(split)\n",
        "    return datetime.strptime(new_data,\"%m/%Y\")"
      ]
    },
    {
      "cell_type": "code",
      "execution_count": null,
      "metadata": {
        "id": "Uz6gOILjnwdv"
      },
      "outputs": [],
      "source": [
        "df['rate_date'] = [to_dtime(x) for x in rate_date]"
      ]
    },
    {
      "cell_type": "code",
      "execution_count": null,
      "metadata": {
        "id": "S8zLqoMhnwdw"
      },
      "outputs": [],
      "source": [
        "df['exp_date'] = [to_dtime(x) for x in exp_date]"
      ]
    },
    {
      "cell_type": "markdown",
      "metadata": {
        "id": "TWy75LR_nwdw"
      },
      "source": [
        "---\n",
        "### Difference between the rating date and the sinister\n",
        "---"
      ]
    },
    {
      "cell_type": "code",
      "execution_count": null,
      "metadata": {
        "id": "m5KcZRI2nwdw"
      },
      "outputs": [],
      "source": [
        "def get_diff(x):\n",
        "    start_date = x['exp_date']\n",
        "    end_date = x['rate_date']\n",
        "    return (end_date.year - start_date.year) * 12 + (end_date.month - start_date.month)"
      ]
    },
    {
      "cell_type": "code",
      "execution_count": null,
      "metadata": {
        "id": "Btbsf4d2nwdw"
      },
      "outputs": [],
      "source": [
        "df['date_difference'] = df.apply(get_diff,axis=1)"
      ]
    },
    {
      "cell_type": "code",
      "execution_count": null,
      "metadata": {
        "colab": {
          "base_uri": "https://localhost:8080/"
        },
        "id": "Te36Cc_Tnwdw",
        "outputId": "45f895ac-aa09-40e7-f2a4-0ede32ee3591"
      },
      "outputs": [
        {
          "output_type": "execute_result",
          "data": {
            "text/html": [
              "\n",
              "  <div id=\"df-ed2ed6ee-20b0-443f-87ae-66beea6fc088\">\n",
              "    <div class=\"colab-df-container\">\n",
              "      <div>\n",
              "<style scoped>\n",
              "    .dataframe tbody tr th:only-of-type {\n",
              "        vertical-align: middle;\n",
              "    }\n",
              "\n",
              "    .dataframe tbody tr th {\n",
              "        vertical-align: top;\n",
              "    }\n",
              "\n",
              "    .dataframe thead th {\n",
              "        text-align: right;\n",
              "    }\n",
              "</style>\n",
              "<table border=\"1\" class=\"dataframe\">\n",
              "  <thead>\n",
              "    <tr style=\"text-align: right;\">\n",
              "      <th></th>\n",
              "      <th>date</th>\n",
              "      <th>note</th>\n",
              "      <th>auteur</th>\n",
              "      <th>avis</th>\n",
              "      <th>assureur</th>\n",
              "      <th>produit</th>\n",
              "      <th>rate_date</th>\n",
              "      <th>exp_date</th>\n",
              "    </tr>\n",
              "    <tr>\n",
              "      <th>date_difference</th>\n",
              "      <th></th>\n",
              "      <th></th>\n",
              "      <th></th>\n",
              "      <th></th>\n",
              "      <th></th>\n",
              "      <th></th>\n",
              "      <th></th>\n",
              "      <th></th>\n",
              "    </tr>\n",
              "  </thead>\n",
              "  <tbody>\n",
              "    <tr>\n",
              "      <th>0</th>\n",
              "      <td>23902</td>\n",
              "      <td>23902</td>\n",
              "      <td>23901</td>\n",
              "      <td>23901</td>\n",
              "      <td>23902</td>\n",
              "      <td>23902</td>\n",
              "      <td>23902</td>\n",
              "      <td>23902</td>\n",
              "    </tr>\n",
              "    <tr>\n",
              "      <th>1</th>\n",
              "      <td>73</td>\n",
              "      <td>73</td>\n",
              "      <td>73</td>\n",
              "      <td>73</td>\n",
              "      <td>73</td>\n",
              "      <td>73</td>\n",
              "      <td>73</td>\n",
              "      <td>73</td>\n",
              "    </tr>\n",
              "    <tr>\n",
              "      <th>2</th>\n",
              "      <td>17</td>\n",
              "      <td>17</td>\n",
              "      <td>17</td>\n",
              "      <td>17</td>\n",
              "      <td>17</td>\n",
              "      <td>17</td>\n",
              "      <td>17</td>\n",
              "      <td>17</td>\n",
              "    </tr>\n",
              "    <tr>\n",
              "      <th>3</th>\n",
              "      <td>17</td>\n",
              "      <td>17</td>\n",
              "      <td>17</td>\n",
              "      <td>17</td>\n",
              "      <td>17</td>\n",
              "      <td>17</td>\n",
              "      <td>17</td>\n",
              "      <td>17</td>\n",
              "    </tr>\n",
              "    <tr>\n",
              "      <th>4</th>\n",
              "      <td>9</td>\n",
              "      <td>9</td>\n",
              "      <td>9</td>\n",
              "      <td>9</td>\n",
              "      <td>9</td>\n",
              "      <td>9</td>\n",
              "      <td>9</td>\n",
              "      <td>9</td>\n",
              "    </tr>\n",
              "    <tr>\n",
              "      <th>5</th>\n",
              "      <td>9</td>\n",
              "      <td>9</td>\n",
              "      <td>9</td>\n",
              "      <td>9</td>\n",
              "      <td>9</td>\n",
              "      <td>9</td>\n",
              "      <td>9</td>\n",
              "      <td>9</td>\n",
              "    </tr>\n",
              "    <tr>\n",
              "      <th>6</th>\n",
              "      <td>4</td>\n",
              "      <td>4</td>\n",
              "      <td>4</td>\n",
              "      <td>4</td>\n",
              "      <td>4</td>\n",
              "      <td>4</td>\n",
              "      <td>4</td>\n",
              "      <td>4</td>\n",
              "    </tr>\n",
              "    <tr>\n",
              "      <th>7</th>\n",
              "      <td>8</td>\n",
              "      <td>8</td>\n",
              "      <td>8</td>\n",
              "      <td>8</td>\n",
              "      <td>8</td>\n",
              "      <td>8</td>\n",
              "      <td>8</td>\n",
              "      <td>8</td>\n",
              "    </tr>\n",
              "    <tr>\n",
              "      <th>8</th>\n",
              "      <td>5</td>\n",
              "      <td>5</td>\n",
              "      <td>5</td>\n",
              "      <td>5</td>\n",
              "      <td>5</td>\n",
              "      <td>5</td>\n",
              "      <td>5</td>\n",
              "      <td>5</td>\n",
              "    </tr>\n",
              "    <tr>\n",
              "      <th>9</th>\n",
              "      <td>16</td>\n",
              "      <td>16</td>\n",
              "      <td>16</td>\n",
              "      <td>16</td>\n",
              "      <td>16</td>\n",
              "      <td>16</td>\n",
              "      <td>16</td>\n",
              "      <td>16</td>\n",
              "    </tr>\n",
              "    <tr>\n",
              "      <th>10</th>\n",
              "      <td>11</td>\n",
              "      <td>11</td>\n",
              "      <td>11</td>\n",
              "      <td>11</td>\n",
              "      <td>11</td>\n",
              "      <td>11</td>\n",
              "      <td>11</td>\n",
              "      <td>11</td>\n",
              "    </tr>\n",
              "    <tr>\n",
              "      <th>11</th>\n",
              "      <td>34</td>\n",
              "      <td>34</td>\n",
              "      <td>34</td>\n",
              "      <td>34</td>\n",
              "      <td>34</td>\n",
              "      <td>34</td>\n",
              "      <td>34</td>\n",
              "      <td>34</td>\n",
              "    </tr>\n",
              "  </tbody>\n",
              "</table>\n",
              "</div>\n",
              "      <button class=\"colab-df-convert\" onclick=\"convertToInteractive('df-ed2ed6ee-20b0-443f-87ae-66beea6fc088')\"\n",
              "              title=\"Convert this dataframe to an interactive table.\"\n",
              "              style=\"display:none;\">\n",
              "        \n",
              "  <svg xmlns=\"http://www.w3.org/2000/svg\" height=\"24px\"viewBox=\"0 0 24 24\"\n",
              "       width=\"24px\">\n",
              "    <path d=\"M0 0h24v24H0V0z\" fill=\"none\"/>\n",
              "    <path d=\"M18.56 5.44l.94 2.06.94-2.06 2.06-.94-2.06-.94-.94-2.06-.94 2.06-2.06.94zm-11 1L8.5 8.5l.94-2.06 2.06-.94-2.06-.94L8.5 2.5l-.94 2.06-2.06.94zm10 10l.94 2.06.94-2.06 2.06-.94-2.06-.94-.94-2.06-.94 2.06-2.06.94z\"/><path d=\"M17.41 7.96l-1.37-1.37c-.4-.4-.92-.59-1.43-.59-.52 0-1.04.2-1.43.59L10.3 9.45l-7.72 7.72c-.78.78-.78 2.05 0 2.83L4 21.41c.39.39.9.59 1.41.59.51 0 1.02-.2 1.41-.59l7.78-7.78 2.81-2.81c.8-.78.8-2.07 0-2.86zM5.41 20L4 18.59l7.72-7.72 1.47 1.35L5.41 20z\"/>\n",
              "  </svg>\n",
              "      </button>\n",
              "      \n",
              "  <style>\n",
              "    .colab-df-container {\n",
              "      display:flex;\n",
              "      flex-wrap:wrap;\n",
              "      gap: 12px;\n",
              "    }\n",
              "\n",
              "    .colab-df-convert {\n",
              "      background-color: #E8F0FE;\n",
              "      border: none;\n",
              "      border-radius: 50%;\n",
              "      cursor: pointer;\n",
              "      display: none;\n",
              "      fill: #1967D2;\n",
              "      height: 32px;\n",
              "      padding: 0 0 0 0;\n",
              "      width: 32px;\n",
              "    }\n",
              "\n",
              "    .colab-df-convert:hover {\n",
              "      background-color: #E2EBFA;\n",
              "      box-shadow: 0px 1px 2px rgba(60, 64, 67, 0.3), 0px 1px 3px 1px rgba(60, 64, 67, 0.15);\n",
              "      fill: #174EA6;\n",
              "    }\n",
              "\n",
              "    [theme=dark] .colab-df-convert {\n",
              "      background-color: #3B4455;\n",
              "      fill: #D2E3FC;\n",
              "    }\n",
              "\n",
              "    [theme=dark] .colab-df-convert:hover {\n",
              "      background-color: #434B5C;\n",
              "      box-shadow: 0px 1px 3px 1px rgba(0, 0, 0, 0.15);\n",
              "      filter: drop-shadow(0px 1px 2px rgba(0, 0, 0, 0.3));\n",
              "      fill: #FFFFFF;\n",
              "    }\n",
              "  </style>\n",
              "\n",
              "      <script>\n",
              "        const buttonEl =\n",
              "          document.querySelector('#df-ed2ed6ee-20b0-443f-87ae-66beea6fc088 button.colab-df-convert');\n",
              "        buttonEl.style.display =\n",
              "          google.colab.kernel.accessAllowed ? 'block' : 'none';\n",
              "\n",
              "        async function convertToInteractive(key) {\n",
              "          const element = document.querySelector('#df-ed2ed6ee-20b0-443f-87ae-66beea6fc088');\n",
              "          const dataTable =\n",
              "            await google.colab.kernel.invokeFunction('convertToInteractive',\n",
              "                                                     [key], {});\n",
              "          if (!dataTable) return;\n",
              "\n",
              "          const docLinkHtml = 'Like what you see? Visit the ' +\n",
              "            '<a target=\"_blank\" href=https://colab.research.google.com/notebooks/data_table.ipynb>data table notebook</a>'\n",
              "            + ' to learn more about interactive tables.';\n",
              "          element.innerHTML = '';\n",
              "          dataTable['output_type'] = 'display_data';\n",
              "          await google.colab.output.renderOutput(dataTable, element);\n",
              "          const docLink = document.createElement('div');\n",
              "          docLink.innerHTML = docLinkHtml;\n",
              "          element.appendChild(docLink);\n",
              "        }\n",
              "      </script>\n",
              "    </div>\n",
              "  </div>\n",
              "  "
            ],
            "text/plain": [
              "                  date   note  auteur  ...  produit  rate_date  exp_date\n",
              "date_difference                        ...                              \n",
              "0                23902  23902   23901  ...    23902      23902     23902\n",
              "1                   73     73      73  ...       73         73        73\n",
              "2                   17     17      17  ...       17         17        17\n",
              "3                   17     17      17  ...       17         17        17\n",
              "4                    9      9       9  ...        9          9         9\n",
              "5                    9      9       9  ...        9          9         9\n",
              "6                    4      4       4  ...        4          4         4\n",
              "7                    8      8       8  ...        8          8         8\n",
              "8                    5      5       5  ...        5          5         5\n",
              "9                   16     16      16  ...       16         16        16\n",
              "10                  11     11      11  ...       11         11        11\n",
              "11                  34     34      34  ...       34         34        34\n",
              "\n",
              "[12 rows x 8 columns]"
            ]
          },
          "metadata": {},
          "execution_count": 16
        }
      ],
      "source": [
        "df.groupby('date_difference').count()"
      ]
    },
    {
      "cell_type": "code",
      "execution_count": null,
      "metadata": {
        "colab": {
          "base_uri": "https://localhost:8080/"
        },
        "id": "Zy1BwQkInwdx",
        "outputId": "4902ec37-45a4-4a98-97f2-ff9784a24686"
      },
      "outputs": [
        {
          "output_type": "execute_result",
          "data": {
            "text/plain": [
              "0        1\n",
              "1        1\n",
              "2        1\n",
              "3        1\n",
              "4        1\n",
              "        ..\n",
              "24100    1\n",
              "24101    1\n",
              "24102    1\n",
              "24103    1\n",
              "24104    1\n",
              "Name: date, Length: 24105, dtype: int64"
            ]
          },
          "metadata": {},
          "execution_count": 17
        }
      ],
      "source": [
        "df['date'].apply(lambda x : 1 if re.match(\"(\\d+) (.+) suite à une expérience en (.+)\",x).groups() else 0)"
      ]
    },
    {
      "cell_type": "markdown",
      "metadata": {
        "id": "JSzuosz5nwdy"
      },
      "source": [
        "---\n",
        "## Processing reviews column\n",
        "---"
      ]
    },
    {
      "cell_type": "code",
      "execution_count": null,
      "metadata": {
        "id": "edK3z6YEnwdy"
      },
      "outputs": [],
      "source": [
        "def tokenize(x):\n",
        "    try :\n",
        "        return word_tokenize(x)\n",
        "    except:\n",
        "        return None"
      ]
    },
    {
      "cell_type": "code",
      "execution_count": null,
      "metadata": {
        "id": "6-lNxv2enwdz"
      },
      "outputs": [],
      "source": [
        "tokenised_cat = df['avis'].apply(tokenize)"
      ]
    },
    {
      "cell_type": "code",
      "source": [
        "#Il y avait des cas d'avis nuls donc nous les avons remplacé par une chaine de caractère vide\n",
        "def handle_None():\n",
        "  for i in range(len(tokenised_cat)):\n",
        "    if tokenised_cat[i]==None:\n",
        "      tokenised_cat[i]=\"\"\n",
        "handle_None()"
      ],
      "metadata": {
        "id": "rAJcPr5UGBZY"
      },
      "execution_count": null,
      "outputs": []
    },
    {
      "cell_type": "markdown",
      "source": [
        "On mets tous les caractères en miniscule"
      ],
      "metadata": {
        "id": "fxuBDm7YJEfh"
      }
    },
    {
      "cell_type": "code",
      "source": [
        "avis_tokenized=[[x.lower() for x in el] for el in tokenised_cat] "
      ],
      "metadata": {
        "id": "_RZ9LfpPq-qG"
      },
      "execution_count": null,
      "outputs": []
    },
    {
      "cell_type": "markdown",
      "source": [
        "On enlève tous les caractères non textuels ni numériques"
      ],
      "metadata": {
        "id": "PaJEncqMJI_P"
      }
    },
    {
      "cell_type": "code",
      "source": [
        "avis_without_specials = [[x for x in el if re.match('[a-z]+',str(x))] for el in avis_tokenized]"
      ],
      "metadata": {
        "id": "jCzgERLKI9ca"
      },
      "execution_count": null,
      "outputs": []
    },
    {
      "cell_type": "code",
      "source": [
        "avis_without_specials = [[x for x in el if re.sub('[^a-z]+',\" \",str(x))] for el in avis_without_specials]"
      ],
      "metadata": {
        "id": "9uQjGJEHw0-d"
      },
      "execution_count": null,
      "outputs": []
    },
    {
      "cell_type": "markdown",
      "source": [
        "On enlève les stopwords francais"
      ],
      "metadata": {
        "id": "AvVGi9a6KFX8"
      }
    },
    {
      "cell_type": "code",
      "source": [
        "all_stopwords=stopwords.words('french')\n",
        "avis_without_stopwords=[[x for x in el if x not in all_stopwords] for el in avis_without_specials]"
      ],
      "metadata": {
        "id": "ib9egB4aHyZt"
      },
      "execution_count": null,
      "outputs": []
    },
    {
      "cell_type": "markdown",
      "source": [
        "On lemmatize les avis ensuite"
      ],
      "metadata": {
        "id": "hxkBTs1lMQN5"
      }
    },
    {
      "cell_type": "code",
      "execution_count": null,
      "metadata": {
        "id": "rhmN_i8Znwd1"
      },
      "outputs": [],
      "source": [
        "lemmatizer = WordNetLemmatizer()\n",
        "avis_lemmetized = [[lemmatizer.lemmatize(str(word)) for word in el] for el in avis_without_stopwords]"
      ]
    },
    {
      "cell_type": "markdown",
      "source": [
        "\n",
        "---\n",
        "## Categorize produit\n",
        "---\n",
        "\n"
      ],
      "metadata": {
        "id": "eEdO4Nkgy38A"
      }
    },
    {
      "cell_type": "code",
      "source": [
        "df['produit_cat']=df['produit'].astype('category').cat.codes.astype('int64')"
      ],
      "metadata": {
        "id": "-JajGZgYy7v_"
      },
      "execution_count": null,
      "outputs": []
    },
    {
      "cell_type": "markdown",
      "source": [
        "---\n",
        "## Categorize Assureur\n",
        "---"
      ],
      "metadata": {
        "id": "059wcYhezGAD"
      }
    },
    {
      "cell_type": "code",
      "source": [
        "df['assureur_cat']=df['assureur'].astype('category').cat.codes.astype('int64')"
      ],
      "metadata": {
        "id": "qiLwkIumzGHM"
      },
      "execution_count": null,
      "outputs": []
    },
    {
      "cell_type": "code",
      "source": [
        "df.tail()\n",
        "# Nous avons ici ajouté 2 colonnes pour remplacer les labels par des catégories"
      ],
      "metadata": {
        "id": "vhEzP0YszGJp",
        "colab": {
          "base_uri": "https://localhost:8080/"
        },
        "outputId": "798a67f5-6b18-425e-d813-adf6577644b1"
      },
      "execution_count": null,
      "outputs": [
        {
          "output_type": "execute_result",
          "data": {
            "text/html": [
              "\n",
              "  <div id=\"df-94bcbe99-70ac-423d-ade4-885d7411f5c5\">\n",
              "    <div class=\"colab-df-container\">\n",
              "      <div>\n",
              "<style scoped>\n",
              "    .dataframe tbody tr th:only-of-type {\n",
              "        vertical-align: middle;\n",
              "    }\n",
              "\n",
              "    .dataframe tbody tr th {\n",
              "        vertical-align: top;\n",
              "    }\n",
              "\n",
              "    .dataframe thead th {\n",
              "        text-align: right;\n",
              "    }\n",
              "</style>\n",
              "<table border=\"1\" class=\"dataframe\">\n",
              "  <thead>\n",
              "    <tr style=\"text-align: right;\">\n",
              "      <th></th>\n",
              "      <th>date</th>\n",
              "      <th>note</th>\n",
              "      <th>auteur</th>\n",
              "      <th>avis</th>\n",
              "      <th>assureur</th>\n",
              "      <th>produit</th>\n",
              "      <th>rate_date</th>\n",
              "      <th>exp_date</th>\n",
              "      <th>date_difference</th>\n",
              "      <th>produit_cat</th>\n",
              "      <th>assureur_cat</th>\n",
              "    </tr>\n",
              "  </thead>\n",
              "  <tbody>\n",
              "    <tr>\n",
              "      <th>24100</th>\n",
              "      <td>22 mars 2021 suite à une expérience en mars 2021</td>\n",
              "      <td>1</td>\n",
              "      <td>hophop-107522</td>\n",
              "      <td>Assurance moto chez la mutuel des motards en F...</td>\n",
              "      <td>Mutuelle des Motards</td>\n",
              "      <td>moto</td>\n",
              "      <td>2021-03-01</td>\n",
              "      <td>2021-03-01</td>\n",
              "      <td>0</td>\n",
              "      <td>7</td>\n",
              "      <td>43</td>\n",
              "    </tr>\n",
              "    <tr>\n",
              "      <th>24101</th>\n",
              "      <td>06 décembre 2019 suite à une expérience en déc...</td>\n",
              "      <td>1</td>\n",
              "      <td>tzl-81680</td>\n",
              "      <td>Même les demandes les plus simples n'aboutisse...</td>\n",
              "      <td>Allianz</td>\n",
              "      <td>habitation</td>\n",
              "      <td>2019-12-01</td>\n",
              "      <td>2019-12-01</td>\n",
              "      <td>0</td>\n",
              "      <td>6</td>\n",
              "      <td>8</td>\n",
              "    </tr>\n",
              "    <tr>\n",
              "      <th>24102</th>\n",
              "      <td>14 avril 2021 suite à une expérience en avril ...</td>\n",
              "      <td>1</td>\n",
              "      <td>jmr-72500-110395</td>\n",
              "      <td>En décembre 2019, j'ai souscrit à un contrat C...</td>\n",
              "      <td>Cegema Assurances</td>\n",
              "      <td>sante</td>\n",
              "      <td>2021-04-01</td>\n",
              "      <td>2021-04-01</td>\n",
              "      <td>0</td>\n",
              "      <td>11</td>\n",
              "      <td>15</td>\n",
              "    </tr>\n",
              "    <tr>\n",
              "      <th>24103</th>\n",
              "      <td>11 juillet 2019 suite à une expérience en juil...</td>\n",
              "      <td>3</td>\n",
              "      <td>cris-77532</td>\n",
              "      <td>Je suis assurer à la gmf depuis plus de 15 ans...</td>\n",
              "      <td>GMF</td>\n",
              "      <td>auto</td>\n",
              "      <td>2019-07-01</td>\n",
              "      <td>2019-07-01</td>\n",
              "      <td>0</td>\n",
              "      <td>2</td>\n",
              "      <td>21</td>\n",
              "    </tr>\n",
              "    <tr>\n",
              "      <th>24104</th>\n",
              "      <td>19 janvier 2017 suite à une expérience en janv...</td>\n",
              "      <td>1</td>\n",
              "      <td>jesse-51459</td>\n",
              "      <td>Bonjour\\r\\nMon ami vient de se faire voler sa ...</td>\n",
              "      <td>AMV</td>\n",
              "      <td>moto</td>\n",
              "      <td>2017-01-01</td>\n",
              "      <td>2017-01-01</td>\n",
              "      <td>0</td>\n",
              "      <td>7</td>\n",
              "      <td>0</td>\n",
              "    </tr>\n",
              "  </tbody>\n",
              "</table>\n",
              "</div>\n",
              "      <button class=\"colab-df-convert\" onclick=\"convertToInteractive('df-94bcbe99-70ac-423d-ade4-885d7411f5c5')\"\n",
              "              title=\"Convert this dataframe to an interactive table.\"\n",
              "              style=\"display:none;\">\n",
              "        \n",
              "  <svg xmlns=\"http://www.w3.org/2000/svg\" height=\"24px\"viewBox=\"0 0 24 24\"\n",
              "       width=\"24px\">\n",
              "    <path d=\"M0 0h24v24H0V0z\" fill=\"none\"/>\n",
              "    <path d=\"M18.56 5.44l.94 2.06.94-2.06 2.06-.94-2.06-.94-.94-2.06-.94 2.06-2.06.94zm-11 1L8.5 8.5l.94-2.06 2.06-.94-2.06-.94L8.5 2.5l-.94 2.06-2.06.94zm10 10l.94 2.06.94-2.06 2.06-.94-2.06-.94-.94-2.06-.94 2.06-2.06.94z\"/><path d=\"M17.41 7.96l-1.37-1.37c-.4-.4-.92-.59-1.43-.59-.52 0-1.04.2-1.43.59L10.3 9.45l-7.72 7.72c-.78.78-.78 2.05 0 2.83L4 21.41c.39.39.9.59 1.41.59.51 0 1.02-.2 1.41-.59l7.78-7.78 2.81-2.81c.8-.78.8-2.07 0-2.86zM5.41 20L4 18.59l7.72-7.72 1.47 1.35L5.41 20z\"/>\n",
              "  </svg>\n",
              "      </button>\n",
              "      \n",
              "  <style>\n",
              "    .colab-df-container {\n",
              "      display:flex;\n",
              "      flex-wrap:wrap;\n",
              "      gap: 12px;\n",
              "    }\n",
              "\n",
              "    .colab-df-convert {\n",
              "      background-color: #E8F0FE;\n",
              "      border: none;\n",
              "      border-radius: 50%;\n",
              "      cursor: pointer;\n",
              "      display: none;\n",
              "      fill: #1967D2;\n",
              "      height: 32px;\n",
              "      padding: 0 0 0 0;\n",
              "      width: 32px;\n",
              "    }\n",
              "\n",
              "    .colab-df-convert:hover {\n",
              "      background-color: #E2EBFA;\n",
              "      box-shadow: 0px 1px 2px rgba(60, 64, 67, 0.3), 0px 1px 3px 1px rgba(60, 64, 67, 0.15);\n",
              "      fill: #174EA6;\n",
              "    }\n",
              "\n",
              "    [theme=dark] .colab-df-convert {\n",
              "      background-color: #3B4455;\n",
              "      fill: #D2E3FC;\n",
              "    }\n",
              "\n",
              "    [theme=dark] .colab-df-convert:hover {\n",
              "      background-color: #434B5C;\n",
              "      box-shadow: 0px 1px 3px 1px rgba(0, 0, 0, 0.15);\n",
              "      filter: drop-shadow(0px 1px 2px rgba(0, 0, 0, 0.3));\n",
              "      fill: #FFFFFF;\n",
              "    }\n",
              "  </style>\n",
              "\n",
              "      <script>\n",
              "        const buttonEl =\n",
              "          document.querySelector('#df-94bcbe99-70ac-423d-ade4-885d7411f5c5 button.colab-df-convert');\n",
              "        buttonEl.style.display =\n",
              "          google.colab.kernel.accessAllowed ? 'block' : 'none';\n",
              "\n",
              "        async function convertToInteractive(key) {\n",
              "          const element = document.querySelector('#df-94bcbe99-70ac-423d-ade4-885d7411f5c5');\n",
              "          const dataTable =\n",
              "            await google.colab.kernel.invokeFunction('convertToInteractive',\n",
              "                                                     [key], {});\n",
              "          if (!dataTable) return;\n",
              "\n",
              "          const docLinkHtml = 'Like what you see? Visit the ' +\n",
              "            '<a target=\"_blank\" href=https://colab.research.google.com/notebooks/data_table.ipynb>data table notebook</a>'\n",
              "            + ' to learn more about interactive tables.';\n",
              "          element.innerHTML = '';\n",
              "          dataTable['output_type'] = 'display_data';\n",
              "          await google.colab.output.renderOutput(dataTable, element);\n",
              "          const docLink = document.createElement('div');\n",
              "          docLink.innerHTML = docLinkHtml;\n",
              "          element.appendChild(docLink);\n",
              "        }\n",
              "      </script>\n",
              "    </div>\n",
              "  </div>\n",
              "  "
            ],
            "text/plain": [
              "                                                    date  ...  assureur_cat\n",
              "24100   22 mars 2021 suite à une expérience en mars 2021  ...            43\n",
              "24101  06 décembre 2019 suite à une expérience en déc...  ...             8\n",
              "24102  14 avril 2021 suite à une expérience en avril ...  ...            15\n",
              "24103  11 juillet 2019 suite à une expérience en juil...  ...            21\n",
              "24104  19 janvier 2017 suite à une expérience en janv...  ...             0\n",
              "\n",
              "[5 rows x 11 columns]"
            ]
          },
          "metadata": {},
          "execution_count": 28
        }
      ]
    },
    {
      "cell_type": "markdown",
      "metadata": {
        "id": "SGOnqdOZnwd1"
      },
      "source": [
        "---\n",
        "# Data exploration\n",
        "---"
      ]
    },
    {
      "cell_type": "code",
      "execution_count": null,
      "metadata": {
        "colab": {
          "base_uri": "https://localhost:8080/"
        },
        "id": "3VhkXBLbnwd2",
        "outputId": "9140b4f9-7475-49d1-e1d4-8abfabc25592"
      },
      "outputs": [
        {
          "output_type": "stream",
          "name": "stdout",
          "text": [
            "Pourcentage de valeurs nulles par colonnes :\n",
            "\n",
            "   - date : 0.0%\n",
            "   - note : 0.0%\n",
            "   - auteur : 0.0%\n",
            "   - avis : 0.0%\n",
            "   - assureur : 0.0%\n",
            "   - produit : 0.0%\n",
            "   - rate_date : 0.0%\n",
            "   - exp_date : 0.0%\n",
            "   - date_difference : 0.0%\n",
            "   - produit_cat : 0.0%\n",
            "   - assureur_cat : 0.0%\n"
          ]
        }
      ],
      "source": [
        "print('Pourcentage de valeurs nulles par colonnes :\\n')\n",
        "for col in df.columns:\n",
        "    res = (df[col].isnull().sum() / len(df)) * 100\n",
        "    res = round(res,2)\n",
        "    print(f'   - {col} : {res}%')\n",
        "# Aucune colonne ne contient de valeurs nulles"
      ]
    },
    {
      "cell_type": "markdown",
      "source": [
        "--- \n",
        "### Exploration temporelle\n",
        "---"
      ],
      "metadata": {
        "id": "A4XoMaWzLGAm"
      }
    },
    {
      "cell_type": "markdown",
      "source": [
        "Répartition des sinistres dans le temps"
      ],
      "metadata": {
        "id": "ndfuybTJHGkL"
      }
    },
    {
      "cell_type": "code",
      "source": [
        "plt.figure(figsize=(15,8))\n",
        "df.groupby(['rate_date'])['produit'].size().plot()\n",
        "# Grande hausse à partir de début 2020"
      ],
      "metadata": {
        "colab": {
          "base_uri": "https://localhost:8080/"
        },
        "id": "bpUhffoxHJsp",
        "outputId": "5be75a92-800f-4336-9001-92c49a07c439"
      },
      "execution_count": null,
      "outputs": [
        {
          "output_type": "execute_result",
          "data": {
            "text/plain": [
              "<matplotlib.axes._subplots.AxesSubplot at 0x7fcf5441a790>"
            ]
          },
          "metadata": {},
          "execution_count": 30
        },
        {
          "output_type": "display_data",
          "data": {
            "image/png": "[encoded data removed]",
            "text/plain": [
              "<Figure size 1080x576 with 1 Axes>"
            ]
          },
          "metadata": {
            "needs_background": "light"
          }
        }
      ]
    },
    {
      "cell_type": "markdown",
      "source": [
        "Répartition des moyennes des notes dans le temps"
      ],
      "metadata": {
        "id": "8zA0HtTnLJ2y"
      }
    },
    {
      "cell_type": "code",
      "source": [
        "plt.figure(figsize=(15,8))\n",
        "df.groupby(['rate_date']).mean()['note'].plot()\n",
        "# Grande hausse de la note moyenne à partir de début 2021 passant de 3 à 3.8"
      ],
      "metadata": {
        "colab": {
          "base_uri": "https://localhost:8080/"
        },
        "id": "Fs3BBCfOLJL5",
        "outputId": "4bab8eec-6c4b-4f85-ec4d-00630d9197af"
      },
      "execution_count": null,
      "outputs": [
        {
          "output_type": "execute_result",
          "data": {
            "text/plain": [
              "<matplotlib.axes._subplots.AxesSubplot at 0x7fcf542bc2d0>"
            ]
          },
          "metadata": {},
          "execution_count": 31
        },
        {
          "output_type": "display_data",
          "data": {
            "image/png": "[encoded data removed]",
            "text/plain": [
              "<Figure size 1080x576 with 1 Axes>"
            ]
          },
          "metadata": {
            "needs_background": "light"
          }
        }
      ]
    },
    {
      "cell_type": "markdown",
      "source": [
        "---\n",
        "### Exploration assureurs \n",
        "---"
      ],
      "metadata": {
        "id": "5vyHyNcvJcRD"
      }
    },
    {
      "cell_type": "markdown",
      "source": [
        "Top 10 notation d'assureurs"
      ],
      "metadata": {
        "id": "ylUOY0Vblb5q"
      }
    },
    {
      "cell_type": "code",
      "execution_count": null,
      "metadata": {
        "colab": {
          "base_uri": "https://localhost:8080/"
        },
        "id": "BR3UB_lqnwd2",
        "outputId": "d8c2b8b7-70d6-499e-ca7d-b41d93cb42bd"
      },
      "outputs": [
        {
          "output_type": "execute_result",
          "data": {
            "text/html": [
              "<style  type=\"text/css\" >\n",
              "#T_5b34b9e4_68f3_11ec_9da8_0242ac1c0002row0_col0{\n",
              "            background-color:  #ff0000;\n",
              "            color:  #f1f1f1;\n",
              "        }#T_5b34b9e4_68f3_11ec_9da8_0242ac1c0002row1_col0{\n",
              "            background-color:  #fb4b4b;\n",
              "            color:  #000000;\n",
              "        }#T_5b34b9e4_68f3_11ec_9da8_0242ac1c0002row2_col0{\n",
              "            background-color:  #fb5353;\n",
              "            color:  #000000;\n",
              "        }#T_5b34b9e4_68f3_11ec_9da8_0242ac1c0002row3_col0{\n",
              "            background-color:  #fa5e5e;\n",
              "            color:  #000000;\n",
              "        }#T_5b34b9e4_68f3_11ec_9da8_0242ac1c0002row4_col0{\n",
              "            background-color:  #f97373;\n",
              "            color:  #000000;\n",
              "        }#T_5b34b9e4_68f3_11ec_9da8_0242ac1c0002row5_col0{\n",
              "            background-color:  #f97b7b;\n",
              "            color:  #000000;\n",
              "        }#T_5b34b9e4_68f3_11ec_9da8_0242ac1c0002row6_col0{\n",
              "            background-color:  #f88383;\n",
              "            color:  #000000;\n",
              "        }#T_5b34b9e4_68f3_11ec_9da8_0242ac1c0002row7_col0{\n",
              "            background-color:  #f79696;\n",
              "            color:  #000000;\n",
              "        }#T_5b34b9e4_68f3_11ec_9da8_0242ac1c0002row8_col0{\n",
              "            background-color:  #f6aeae;\n",
              "            color:  #000000;\n",
              "        }#T_5b34b9e4_68f3_11ec_9da8_0242ac1c0002row9_col0{\n",
              "            background-color:  #f3f0f0;\n",
              "            color:  #000000;\n",
              "        }</style><table id=\"T_5b34b9e4_68f3_11ec_9da8_0242ac1c0002\" class=\"dataframe\"><thead>    <tr>        <th class=\"blank level0\" ></th>        <th class=\"col_heading level0 col0\" >note</th>    </tr>    <tr>        <th class=\"index_name level0\" >assureur</th>        <th class=\"blank\" ></th>    </tr></thead><tbody>\n",
              "                <tr>\n",
              "                        <th id=\"T_5b34b9e4_68f3_11ec_9da8_0242ac1c0002level0_row0\" class=\"row_heading level0 row0\" >Zen'Up</th>\n",
              "                        <td id=\"T_5b34b9e4_68f3_11ec_9da8_0242ac1c0002row0_col0\" class=\"data row0 col0\" >4.436735</td>\n",
              "            </tr>\n",
              "            <tr>\n",
              "                        <th id=\"T_5b34b9e4_68f3_11ec_9da8_0242ac1c0002level0_row1\" class=\"row_heading level0 row1\" >APRIL Moto</th>\n",
              "                        <td id=\"T_5b34b9e4_68f3_11ec_9da8_0242ac1c0002row1_col0\" class=\"data row1 col0\" >3.946237</td>\n",
              "            </tr>\n",
              "            <tr>\n",
              "                        <th id=\"T_5b34b9e4_68f3_11ec_9da8_0242ac1c0002level0_row2\" class=\"row_heading level0 row2\" >Mapa</th>\n",
              "                        <td id=\"T_5b34b9e4_68f3_11ec_9da8_0242ac1c0002row2_col0\" class=\"data row2 col0\" >3.900000</td>\n",
              "            </tr>\n",
              "            <tr>\n",
              "                        <th id=\"T_5b34b9e4_68f3_11ec_9da8_0242ac1c0002level0_row3\" class=\"row_heading level0 row3\" >L'olivier Assurance</th>\n",
              "                        <td id=\"T_5b34b9e4_68f3_11ec_9da8_0242ac1c0002row3_col0\" class=\"data row3 col0\" >3.829757</td>\n",
              "            </tr>\n",
              "            <tr>\n",
              "                        <th id=\"T_5b34b9e4_68f3_11ec_9da8_0242ac1c0002level0_row4\" class=\"row_heading level0 row4\" >AMV</th>\n",
              "                        <td id=\"T_5b34b9e4_68f3_11ec_9da8_0242ac1c0002row4_col0\" class=\"data row4 col0\" >3.691860</td>\n",
              "            </tr>\n",
              "            <tr>\n",
              "                        <th id=\"T_5b34b9e4_68f3_11ec_9da8_0242ac1c0002level0_row5\" class=\"row_heading level0 row5\" >Peyrac Assurances</th>\n",
              "                        <td id=\"T_5b34b9e4_68f3_11ec_9da8_0242ac1c0002row5_col0\" class=\"data row5 col0\" >3.642857</td>\n",
              "            </tr>\n",
              "            <tr>\n",
              "                        <th id=\"T_5b34b9e4_68f3_11ec_9da8_0242ac1c0002level0_row6\" class=\"row_heading level0 row6\" >MGP</th>\n",
              "                        <td id=\"T_5b34b9e4_68f3_11ec_9da8_0242ac1c0002row6_col0\" class=\"data row6 col0\" >3.589686</td>\n",
              "            </tr>\n",
              "            <tr>\n",
              "                        <th id=\"T_5b34b9e4_68f3_11ec_9da8_0242ac1c0002level0_row7\" class=\"row_heading level0 row7\" >Santiane</th>\n",
              "                        <td id=\"T_5b34b9e4_68f3_11ec_9da8_0242ac1c0002row7_col0\" class=\"data row7 col0\" >3.468085</td>\n",
              "            </tr>\n",
              "            <tr>\n",
              "                        <th id=\"T_5b34b9e4_68f3_11ec_9da8_0242ac1c0002level0_row8\" class=\"row_heading level0 row8\" >Direct Assurance</th>\n",
              "                        <td id=\"T_5b34b9e4_68f3_11ec_9da8_0242ac1c0002row8_col0\" class=\"data row8 col0\" >3.314790</td>\n",
              "            </tr>\n",
              "            <tr>\n",
              "                        <th id=\"T_5b34b9e4_68f3_11ec_9da8_0242ac1c0002level0_row9\" class=\"row_heading level0 row9\" >GMF</th>\n",
              "                        <td id=\"T_5b34b9e4_68f3_11ec_9da8_0242ac1c0002row9_col0\" class=\"data row9 col0\" >2.885772</td>\n",
              "            </tr>\n",
              "    </tbody></table>"
            ],
            "text/plain": [
              "<pandas.io.formats.style.Styler at 0x7fcf54318450>"
            ]
          },
          "metadata": {},
          "execution_count": 32
        }
      ],
      "source": [
        "df1Viz_Note=pd.DataFrame(df.groupby('assureur').mean()['note'].sort_values(ascending=False))\n",
        "df1Viz_Note.iloc[:10,:].style.background_gradient(cmap=sns.light_palette(\"red\", as_cmap=True))"
      ]
    },
    {
      "cell_type": "markdown",
      "source": [
        "Top 10 assureurs les plus utilisés"
      ],
      "metadata": {
        "id": "yPZ7y6PZJkDc"
      }
    },
    {
      "cell_type": "code",
      "source": [
        "df1Viz_Note=pd.DataFrame(df.groupby('assureur').count()['note'].sort_values(ascending=False))\n",
        "df1Viz_Note.iloc[:10,:].style.background_gradient(cmap=sns.light_palette(\"red\", as_cmap=True))"
      ],
      "metadata": {
        "colab": {
          "base_uri": "https://localhost:8080/"
        },
        "id": "OLgCM7WHJPxV",
        "outputId": "52e8a89d-f6ba-4214-f1f6-1d647487164e"
      },
      "execution_count": null,
      "outputs": [
        {
          "output_type": "execute_result",
          "data": {
            "text/html": [
              "<style  type=\"text/css\" >\n",
              "#T_5b3ccf6c_68f3_11ec_9da8_0242ac1c0002row0_col0{\n",
              "            background-color:  #ff0000;\n",
              "            color:  #f1f1f1;\n",
              "        }#T_5b3ccf6c_68f3_11ec_9da8_0242ac1c0002row1_col0{\n",
              "            background-color:  #fb4848;\n",
              "            color:  #000000;\n",
              "        }#T_5b3ccf6c_68f3_11ec_9da8_0242ac1c0002row2_col0{\n",
              "            background-color:  #f4dede;\n",
              "            color:  #000000;\n",
              "        }#T_5b3ccf6c_68f3_11ec_9da8_0242ac1c0002row3_col0{\n",
              "            background-color:  #f4dfdf;\n",
              "            color:  #000000;\n",
              "        }#T_5b3ccf6c_68f3_11ec_9da8_0242ac1c0002row4_col0{\n",
              "            background-color:  #f3e5e5;\n",
              "            color:  #000000;\n",
              "        }#T_5b3ccf6c_68f3_11ec_9da8_0242ac1c0002row5_col0{\n",
              "            background-color:  #f3e7e7;\n",
              "            color:  #000000;\n",
              "        }#T_5b3ccf6c_68f3_11ec_9da8_0242ac1c0002row6_col0{\n",
              "            background-color:  #f3eded;\n",
              "            color:  #000000;\n",
              "        }#T_5b3ccf6c_68f3_11ec_9da8_0242ac1c0002row7_col0{\n",
              "            background-color:  #f3eeee;\n",
              "            color:  #000000;\n",
              "        }#T_5b3ccf6c_68f3_11ec_9da8_0242ac1c0002row8_col0,#T_5b3ccf6c_68f3_11ec_9da8_0242ac1c0002row9_col0{\n",
              "            background-color:  #f3f0f0;\n",
              "            color:  #000000;\n",
              "        }</style><table id=\"T_5b3ccf6c_68f3_11ec_9da8_0242ac1c0002\" class=\"dataframe\"><thead>    <tr>        <th class=\"blank level0\" ></th>        <th class=\"col_heading level0 col0\" >note</th>    </tr>    <tr>        <th class=\"index_name level0\" >assureur</th>        <th class=\"blank\" ></th>    </tr></thead><tbody>\n",
              "                <tr>\n",
              "                        <th id=\"T_5b3ccf6c_68f3_11ec_9da8_0242ac1c0002level0_row0\" class=\"row_heading level0 row0\" >Direct Assurance</th>\n",
              "                        <td id=\"T_5b3ccf6c_68f3_11ec_9da8_0242ac1c0002row0_col0\" class=\"data row0 col0\" >5896</td>\n",
              "            </tr>\n",
              "            <tr>\n",
              "                        <th id=\"T_5b3ccf6c_68f3_11ec_9da8_0242ac1c0002level0_row1\" class=\"row_heading level0 row1\" >L'olivier Assurance</th>\n",
              "                        <td id=\"T_5b3ccf6c_68f3_11ec_9da8_0242ac1c0002row1_col0\" class=\"data row1 col0\" >4288</td>\n",
              "            </tr>\n",
              "            <tr>\n",
              "                        <th id=\"T_5b3ccf6c_68f3_11ec_9da8_0242ac1c0002level0_row2\" class=\"row_heading level0 row2\" >APRIL Moto</th>\n",
              "                        <td id=\"T_5b3ccf6c_68f3_11ec_9da8_0242ac1c0002row2_col0\" class=\"data row2 col0\" >1023</td>\n",
              "            </tr>\n",
              "            <tr>\n",
              "                        <th id=\"T_5b3ccf6c_68f3_11ec_9da8_0242ac1c0002level0_row3\" class=\"row_heading level0 row3\" >GMF</th>\n",
              "                        <td id=\"T_5b3ccf6c_68f3_11ec_9da8_0242ac1c0002row3_col0\" class=\"data row3 col0\" >998</td>\n",
              "            </tr>\n",
              "            <tr>\n",
              "                        <th id=\"T_5b3ccf6c_68f3_11ec_9da8_0242ac1c0002level0_row4\" class=\"row_heading level0 row4\" >Néoliane Santé</th>\n",
              "                        <td id=\"T_5b3ccf6c_68f3_11ec_9da8_0242ac1c0002row4_col0\" class=\"data row4 col0\" >861</td>\n",
              "            </tr>\n",
              "            <tr>\n",
              "                        <th id=\"T_5b3ccf6c_68f3_11ec_9da8_0242ac1c0002level0_row5\" class=\"row_heading level0 row5\" >MACIF</th>\n",
              "                        <td id=\"T_5b3ccf6c_68f3_11ec_9da8_0242ac1c0002row5_col0\" class=\"data row5 col0\" >829</td>\n",
              "            </tr>\n",
              "            <tr>\n",
              "                        <th id=\"T_5b3ccf6c_68f3_11ec_9da8_0242ac1c0002level0_row6\" class=\"row_heading level0 row6\" >AMV</th>\n",
              "                        <td id=\"T_5b3ccf6c_68f3_11ec_9da8_0242ac1c0002row6_col0\" class=\"data row6 col0\" >688</td>\n",
              "            </tr>\n",
              "            <tr>\n",
              "                        <th id=\"T_5b3ccf6c_68f3_11ec_9da8_0242ac1c0002level0_row7\" class=\"row_heading level0 row7\" >Santiane</th>\n",
              "                        <td id=\"T_5b3ccf6c_68f3_11ec_9da8_0242ac1c0002row7_col0\" class=\"data row7 col0\" >658</td>\n",
              "            </tr>\n",
              "            <tr>\n",
              "                        <th id=\"T_5b3ccf6c_68f3_11ec_9da8_0242ac1c0002level0_row8\" class=\"row_heading level0 row8\" >AXA</th>\n",
              "                        <td id=\"T_5b3ccf6c_68f3_11ec_9da8_0242ac1c0002row8_col0\" class=\"data row8 col0\" >629</td>\n",
              "            </tr>\n",
              "            <tr>\n",
              "                        <th id=\"T_5b3ccf6c_68f3_11ec_9da8_0242ac1c0002level0_row9\" class=\"row_heading level0 row9\" >MAAF</th>\n",
              "                        <td id=\"T_5b3ccf6c_68f3_11ec_9da8_0242ac1c0002row9_col0\" class=\"data row9 col0\" >612</td>\n",
              "            </tr>\n",
              "    </tbody></table>"
            ],
            "text/plain": [
              "<pandas.io.formats.style.Styler at 0x7fcf53daca50>"
            ]
          },
          "metadata": {},
          "execution_count": 33
        }
      ]
    },
    {
      "cell_type": "markdown",
      "source": [
        "--- \n",
        "### Exploration produit\n",
        "---\n",
        "Classement des types de produits les plus sinistrés"
      ],
      "metadata": {
        "id": "tmPUMCeNJq0Y"
      }
    },
    {
      "cell_type": "code",
      "execution_count": null,
      "metadata": {
        "colab": {
          "base_uri": "https://localhost:8080/"
        },
        "id": "h29HtoJpnwd1",
        "outputId": "915004d9-ae5b-41ec-8dd4-3d8c309127a4"
      },
      "outputs": [
        {
          "output_type": "execute_result",
          "data": {
            "text/html": [
              "<style  type=\"text/css\" >\n",
              "#T_5b41a6fe_68f3_11ec_9da8_0242ac1c0002row0_col0{\n",
              "            background-color:  #ff0000;\n",
              "            color:  #f1f1f1;\n",
              "        }#T_5b41a6fe_68f3_11ec_9da8_0242ac1c0002row1_col0{\n",
              "            background-color:  #f6b4b4;\n",
              "            color:  #000000;\n",
              "        }#T_5b41a6fe_68f3_11ec_9da8_0242ac1c0002row2_col0{\n",
              "            background-color:  #f5cccc;\n",
              "            color:  #000000;\n",
              "        }#T_5b41a6fe_68f3_11ec_9da8_0242ac1c0002row3_col0{\n",
              "            background-color:  #f4cfcf;\n",
              "            color:  #000000;\n",
              "        }#T_5b41a6fe_68f3_11ec_9da8_0242ac1c0002row4_col0{\n",
              "            background-color:  #f3e3e3;\n",
              "            color:  #000000;\n",
              "        }#T_5b41a6fe_68f3_11ec_9da8_0242ac1c0002row5_col0{\n",
              "            background-color:  #f3e6e6;\n",
              "            color:  #000000;\n",
              "        }#T_5b41a6fe_68f3_11ec_9da8_0242ac1c0002row6_col0{\n",
              "            background-color:  #f3e7e7;\n",
              "            color:  #000000;\n",
              "        }#T_5b41a6fe_68f3_11ec_9da8_0242ac1c0002row7_col0{\n",
              "            background-color:  #f3eaea;\n",
              "            color:  #000000;\n",
              "        }#T_5b41a6fe_68f3_11ec_9da8_0242ac1c0002row8_col0,#T_5b41a6fe_68f3_11ec_9da8_0242ac1c0002row9_col0,#T_5b41a6fe_68f3_11ec_9da8_0242ac1c0002row10_col0,#T_5b41a6fe_68f3_11ec_9da8_0242ac1c0002row11_col0,#T_5b41a6fe_68f3_11ec_9da8_0242ac1c0002row12_col0{\n",
              "            background-color:  #f3f0f0;\n",
              "            color:  #000000;\n",
              "        }</style><table id=\"T_5b41a6fe_68f3_11ec_9da8_0242ac1c0002\" class=\"dataframe\"><thead>    <tr>        <th class=\"blank level0\" ></th>        <th class=\"col_heading level0 col0\" >produit</th>    </tr></thead><tbody>\n",
              "                <tr>\n",
              "                        <th id=\"T_5b41a6fe_68f3_11ec_9da8_0242ac1c0002level0_row0\" class=\"row_heading level0 row0\" >auto</th>\n",
              "                        <td id=\"T_5b41a6fe_68f3_11ec_9da8_0242ac1c0002row0_col0\" class=\"data row0 col0\" >14077</td>\n",
              "            </tr>\n",
              "            <tr>\n",
              "                        <th id=\"T_5b41a6fe_68f3_11ec_9da8_0242ac1c0002level0_row1\" class=\"row_heading level0 row1\" >sante</th>\n",
              "                        <td id=\"T_5b41a6fe_68f3_11ec_9da8_0242ac1c0002row1_col0\" class=\"data row1 col0\" >3525</td>\n",
              "            </tr>\n",
              "            <tr>\n",
              "                        <th id=\"T_5b41a6fe_68f3_11ec_9da8_0242ac1c0002level0_row2\" class=\"row_heading level0 row2\" >moto</th>\n",
              "                        <td id=\"T_5b41a6fe_68f3_11ec_9da8_0242ac1c0002row2_col0\" class=\"data row2 col0\" >2105</td>\n",
              "            </tr>\n",
              "            <tr>\n",
              "                        <th id=\"T_5b41a6fe_68f3_11ec_9da8_0242ac1c0002level0_row3\" class=\"row_heading level0 row3\" >habitation</th>\n",
              "                        <td id=\"T_5b41a6fe_68f3_11ec_9da8_0242ac1c0002row3_col0\" class=\"data row3 col0\" >1956</td>\n",
              "            </tr>\n",
              "            <tr>\n",
              "                        <th id=\"T_5b41a6fe_68f3_11ec_9da8_0242ac1c0002level0_row4\" class=\"row_heading level0 row4\" >prevoyance</th>\n",
              "                        <td id=\"T_5b41a6fe_68f3_11ec_9da8_0242ac1c0002row4_col0\" class=\"data row4 col0\" >791</td>\n",
              "            </tr>\n",
              "            <tr>\n",
              "                        <th id=\"T_5b41a6fe_68f3_11ec_9da8_0242ac1c0002level0_row5\" class=\"row_heading level0 row5\" >credit</th>\n",
              "                        <td id=\"T_5b41a6fe_68f3_11ec_9da8_0242ac1c0002row5_col0\" class=\"data row5 col0\" >653</td>\n",
              "            </tr>\n",
              "            <tr>\n",
              "                        <th id=\"T_5b41a6fe_68f3_11ec_9da8_0242ac1c0002level0_row6\" class=\"row_heading level0 row6\" >vie</th>\n",
              "                        <td id=\"T_5b41a6fe_68f3_11ec_9da8_0242ac1c0002row6_col0\" class=\"data row6 col0\" >578</td>\n",
              "            </tr>\n",
              "            <tr>\n",
              "                        <th id=\"T_5b41a6fe_68f3_11ec_9da8_0242ac1c0002level0_row7\" class=\"row_heading level0 row7\" >animaux</th>\n",
              "                        <td id=\"T_5b41a6fe_68f3_11ec_9da8_0242ac1c0002row7_col0\" class=\"data row7 col0\" >374</td>\n",
              "            </tr>\n",
              "            <tr>\n",
              "                        <th id=\"T_5b41a6fe_68f3_11ec_9da8_0242ac1c0002level0_row8\" class=\"row_heading level0 row8\" >multirisque-professionnelle</th>\n",
              "                        <td id=\"T_5b41a6fe_68f3_11ec_9da8_0242ac1c0002row8_col0\" class=\"data row8 col0\" >20</td>\n",
              "            </tr>\n",
              "            <tr>\n",
              "                        <th id=\"T_5b41a6fe_68f3_11ec_9da8_0242ac1c0002level0_row9\" class=\"row_heading level0 row9\" >garantie-decennale</th>\n",
              "                        <td id=\"T_5b41a6fe_68f3_11ec_9da8_0242ac1c0002row9_col0\" class=\"data row9 col0\" >12</td>\n",
              "            </tr>\n",
              "            <tr>\n",
              "                        <th id=\"T_5b41a6fe_68f3_11ec_9da8_0242ac1c0002level0_row10\" class=\"row_heading level0 row10\" >assurances-professionnelles</th>\n",
              "                        <td id=\"T_5b41a6fe_68f3_11ec_9da8_0242ac1c0002row10_col0\" class=\"data row10 col0\" >8</td>\n",
              "            </tr>\n",
              "            <tr>\n",
              "                        <th id=\"T_5b41a6fe_68f3_11ec_9da8_0242ac1c0002level0_row11\" class=\"row_heading level0 row11\" >responsabilite-civile-professionnelle</th>\n",
              "                        <td id=\"T_5b41a6fe_68f3_11ec_9da8_0242ac1c0002row11_col0\" class=\"data row11 col0\" >5</td>\n",
              "            </tr>\n",
              "            <tr>\n",
              "                        <th id=\"T_5b41a6fe_68f3_11ec_9da8_0242ac1c0002level0_row12\" class=\"row_heading level0 row12\" >flotte-automobile</th>\n",
              "                        <td id=\"T_5b41a6fe_68f3_11ec_9da8_0242ac1c0002row12_col0\" class=\"data row12 col0\" >1</td>\n",
              "            </tr>\n",
              "    </tbody></table>"
            ],
            "text/plain": [
              "<pandas.io.formats.style.Styler at 0x7fcf53a73210>"
            ]
          },
          "metadata": {},
          "execution_count": 34
        }
      ],
      "source": [
        "df1=pd.DataFrame(df['produit'].value_counts())\n",
        "df1.style.background_gradient(cmap=sns.light_palette(\"red\", as_cmap=True))\n",
        "# La moto est le produit le plus assuré parmi tous les produits et de très loin"
      ]
    },
    {
      "cell_type": "markdown",
      "source": [
        "Top 10 des produits qui obtiennent les meilleures notes"
      ],
      "metadata": {
        "id": "z-x-M-hhu6lV"
      }
    },
    {
      "cell_type": "code",
      "source": [
        "df2Viz_Note=pd.DataFrame(df.groupby('produit').mean()['note'].sort_values(ascending=False))\n",
        "df2Viz_Note.iloc[:10,:].style.background_gradient(cmap=sns.light_palette(\"red\", as_cmap=True))"
      ],
      "metadata": {
        "colab": {
          "base_uri": "https://localhost:8080/"
        },
        "id": "YUmUSbNbu6xL",
        "outputId": "14e86ddb-44f1-492a-cc12-84f686152e5b"
      },
      "execution_count": null,
      "outputs": [
        {
          "output_type": "execute_result",
          "data": {
            "text/html": [
              "<style  type=\"text/css\" >\n",
              "#T_5b482682_68f3_11ec_9da8_0242ac1c0002row0_col0{\n",
              "            background-color:  #ff0000;\n",
              "            color:  #f1f1f1;\n",
              "        }#T_5b482682_68f3_11ec_9da8_0242ac1c0002row1_col0{\n",
              "            background-color:  #fd2a2a;\n",
              "            color:  #f1f1f1;\n",
              "        }#T_5b482682_68f3_11ec_9da8_0242ac1c0002row2_col0{\n",
              "            background-color:  #fb4d4d;\n",
              "            color:  #000000;\n",
              "        }#T_5b482682_68f3_11ec_9da8_0242ac1c0002row3_col0{\n",
              "            background-color:  #fa6565;\n",
              "            color:  #000000;\n",
              "        }#T_5b482682_68f3_11ec_9da8_0242ac1c0002row4_col0{\n",
              "            background-color:  #f97373;\n",
              "            color:  #000000;\n",
              "        }#T_5b482682_68f3_11ec_9da8_0242ac1c0002row5_col0{\n",
              "            background-color:  #f5c8c7;\n",
              "            color:  #000000;\n",
              "        }#T_5b482682_68f3_11ec_9da8_0242ac1c0002row6_col0{\n",
              "            background-color:  #f4d1d1;\n",
              "            color:  #000000;\n",
              "        }#T_5b482682_68f3_11ec_9da8_0242ac1c0002row7_col0{\n",
              "            background-color:  #f4dada;\n",
              "            color:  #000000;\n",
              "        }#T_5b482682_68f3_11ec_9da8_0242ac1c0002row8_col0{\n",
              "            background-color:  #f3e4e4;\n",
              "            color:  #000000;\n",
              "        }#T_5b482682_68f3_11ec_9da8_0242ac1c0002row9_col0{\n",
              "            background-color:  #f3f0f0;\n",
              "            color:  #000000;\n",
              "        }</style><table id=\"T_5b482682_68f3_11ec_9da8_0242ac1c0002\" class=\"dataframe\"><thead>    <tr>        <th class=\"blank level0\" ></th>        <th class=\"col_heading level0 col0\" >note</th>    </tr>    <tr>        <th class=\"index_name level0\" >produit</th>        <th class=\"blank\" ></th>    </tr></thead><tbody>\n",
              "                <tr>\n",
              "                        <th id=\"T_5b482682_68f3_11ec_9da8_0242ac1c0002level0_row0\" class=\"row_heading level0 row0\" >moto</th>\n",
              "                        <td id=\"T_5b482682_68f3_11ec_9da8_0242ac1c0002row0_col0\" class=\"data row0 col0\" >3.501188</td>\n",
              "            </tr>\n",
              "            <tr>\n",
              "                        <th id=\"T_5b482682_68f3_11ec_9da8_0242ac1c0002level0_row1\" class=\"row_heading level0 row1\" >auto</th>\n",
              "                        <td id=\"T_5b482682_68f3_11ec_9da8_0242ac1c0002row1_col0\" class=\"data row1 col0\" >3.145343</td>\n",
              "            </tr>\n",
              "            <tr>\n",
              "                        <th id=\"T_5b482682_68f3_11ec_9da8_0242ac1c0002level0_row2\" class=\"row_heading level0 row2\" >multirisque-professionnelle</th>\n",
              "                        <td id=\"T_5b482682_68f3_11ec_9da8_0242ac1c0002row2_col0\" class=\"data row2 col0\" >2.850000</td>\n",
              "            </tr>\n",
              "            <tr>\n",
              "                        <th id=\"T_5b482682_68f3_11ec_9da8_0242ac1c0002level0_row3\" class=\"row_heading level0 row3\" >credit</th>\n",
              "                        <td id=\"T_5b482682_68f3_11ec_9da8_0242ac1c0002row3_col0\" class=\"data row3 col0\" >2.647779</td>\n",
              "            </tr>\n",
              "            <tr>\n",
              "                        <th id=\"T_5b482682_68f3_11ec_9da8_0242ac1c0002level0_row4\" class=\"row_heading level0 row4\" >sante</th>\n",
              "                        <td id=\"T_5b482682_68f3_11ec_9da8_0242ac1c0002row4_col0\" class=\"data row4 col0\" >2.531348</td>\n",
              "            </tr>\n",
              "            <tr>\n",
              "                        <th id=\"T_5b482682_68f3_11ec_9da8_0242ac1c0002level0_row5\" class=\"row_heading level0 row5\" >animaux</th>\n",
              "                        <td id=\"T_5b482682_68f3_11ec_9da8_0242ac1c0002row5_col0\" class=\"data row5 col0\" >1.820856</td>\n",
              "            </tr>\n",
              "            <tr>\n",
              "                        <th id=\"T_5b482682_68f3_11ec_9da8_0242ac1c0002level0_row6\" class=\"row_heading level0 row6\" >habitation</th>\n",
              "                        <td id=\"T_5b482682_68f3_11ec_9da8_0242ac1c0002row6_col0\" class=\"data row6 col0\" >1.738753</td>\n",
              "            </tr>\n",
              "            <tr>\n",
              "                        <th id=\"T_5b482682_68f3_11ec_9da8_0242ac1c0002level0_row7\" class=\"row_heading level0 row7\" >prevoyance</th>\n",
              "                        <td id=\"T_5b482682_68f3_11ec_9da8_0242ac1c0002row7_col0\" class=\"data row7 col0\" >1.661188</td>\n",
              "            </tr>\n",
              "            <tr>\n",
              "                        <th id=\"T_5b482682_68f3_11ec_9da8_0242ac1c0002level0_row8\" class=\"row_heading level0 row8\" >garantie-decennale</th>\n",
              "                        <td id=\"T_5b482682_68f3_11ec_9da8_0242ac1c0002row8_col0\" class=\"data row8 col0\" >1.583333</td>\n",
              "            </tr>\n",
              "            <tr>\n",
              "                        <th id=\"T_5b482682_68f3_11ec_9da8_0242ac1c0002level0_row9\" class=\"row_heading level0 row9\" >vie</th>\n",
              "                        <td id=\"T_5b482682_68f3_11ec_9da8_0242ac1c0002row9_col0\" class=\"data row9 col0\" >1.477509</td>\n",
              "            </tr>\n",
              "    </tbody></table>"
            ],
            "text/plain": [
              "<pandas.io.formats.style.Styler at 0x7fcf53a6ead0>"
            ]
          },
          "metadata": {},
          "execution_count": 35
        }
      ]
    },
    {
      "cell_type": "markdown",
      "source": [
        "--- \n",
        "### Exploration auteur\n",
        "---"
      ],
      "metadata": {
        "id": "spSL_xRDKYMn"
      }
    },
    {
      "cell_type": "code",
      "execution_count": null,
      "metadata": {
        "colab": {
          "base_uri": "https://localhost:8080/"
        },
        "id": "QvSDp3Djnwd2",
        "outputId": "8ea8a70e-d23c-41cf-ca39-87d0a54f6c40"
      },
      "outputs": [
        {
          "output_type": "execute_result",
          "data": {
            "text/html": [
              "<style  type=\"text/css\" >\n",
              "#T_5b4ff86c_68f3_11ec_9da8_0242ac1c0002row0_col0,#T_5b4ff86c_68f3_11ec_9da8_0242ac1c0002row1_col0,#T_5b4ff86c_68f3_11ec_9da8_0242ac1c0002row2_col0,#T_5b4ff86c_68f3_11ec_9da8_0242ac1c0002row3_col0{\n",
              "            background-color:  #ff0000;\n",
              "            color:  #f1f1f1;\n",
              "        }#T_5b4ff86c_68f3_11ec_9da8_0242ac1c0002row4_col0,#T_5b4ff86c_68f3_11ec_9da8_0242ac1c0002row5_col0,#T_5b4ff86c_68f3_11ec_9da8_0242ac1c0002row6_col0,#T_5b4ff86c_68f3_11ec_9da8_0242ac1c0002row7_col0,#T_5b4ff86c_68f3_11ec_9da8_0242ac1c0002row8_col0,#T_5b4ff86c_68f3_11ec_9da8_0242ac1c0002row9_col0{\n",
              "            background-color:  #f3f0f0;\n",
              "            color:  #000000;\n",
              "        }</style><table id=\"T_5b4ff86c_68f3_11ec_9da8_0242ac1c0002\" class=\"dataframe\"><thead>    <tr>        <th class=\"blank level0\" ></th>        <th class=\"col_heading level0 col0\" >auteur</th>    </tr></thead><tbody>\n",
              "                <tr>\n",
              "                        <th id=\"T_5b4ff86c_68f3_11ec_9da8_0242ac1c0002level0_row0\" class=\"row_heading level0 row0\" >tontonbubu-54321</th>\n",
              "                        <td id=\"T_5b4ff86c_68f3_11ec_9da8_0242ac1c0002row0_col0\" class=\"data row0 col0\" >4</td>\n",
              "            </tr>\n",
              "            <tr>\n",
              "                        <th id=\"T_5b4ff86c_68f3_11ec_9da8_0242ac1c0002level0_row1\" class=\"row_heading level0 row1\" >mikado-50419</th>\n",
              "                        <td id=\"T_5b4ff86c_68f3_11ec_9da8_0242ac1c0002row1_col0\" class=\"data row1 col0\" >4</td>\n",
              "            </tr>\n",
              "            <tr>\n",
              "                        <th id=\"T_5b4ff86c_68f3_11ec_9da8_0242ac1c0002level0_row2\" class=\"row_heading level0 row2\" >pj-97010</th>\n",
              "                        <td id=\"T_5b4ff86c_68f3_11ec_9da8_0242ac1c0002row2_col0\" class=\"data row2 col0\" >4</td>\n",
              "            </tr>\n",
              "            <tr>\n",
              "                        <th id=\"T_5b4ff86c_68f3_11ec_9da8_0242ac1c0002level0_row3\" class=\"row_heading level0 row3\" >mm-53953</th>\n",
              "                        <td id=\"T_5b4ff86c_68f3_11ec_9da8_0242ac1c0002row3_col0\" class=\"data row3 col0\" >4</td>\n",
              "            </tr>\n",
              "            <tr>\n",
              "                        <th id=\"T_5b4ff86c_68f3_11ec_9da8_0242ac1c0002level0_row4\" class=\"row_heading level0 row4\" >roger-j-112045</th>\n",
              "                        <td id=\"T_5b4ff86c_68f3_11ec_9da8_0242ac1c0002row4_col0\" class=\"data row4 col0\" >3</td>\n",
              "            </tr>\n",
              "            <tr>\n",
              "                        <th id=\"T_5b4ff86c_68f3_11ec_9da8_0242ac1c0002level0_row5\" class=\"row_heading level0 row5\" >draeni-58258</th>\n",
              "                        <td id=\"T_5b4ff86c_68f3_11ec_9da8_0242ac1c0002row5_col0\" class=\"data row5 col0\" >3</td>\n",
              "            </tr>\n",
              "            <tr>\n",
              "                        <th id=\"T_5b4ff86c_68f3_11ec_9da8_0242ac1c0002level0_row6\" class=\"row_heading level0 row6\" >elbrahmi270-94179</th>\n",
              "                        <td id=\"T_5b4ff86c_68f3_11ec_9da8_0242ac1c0002row6_col0\" class=\"data row6 col0\" >3</td>\n",
              "            </tr>\n",
              "            <tr>\n",
              "                        <th id=\"T_5b4ff86c_68f3_11ec_9da8_0242ac1c0002level0_row7\" class=\"row_heading level0 row7\" >misternaad-58517</th>\n",
              "                        <td id=\"T_5b4ff86c_68f3_11ec_9da8_0242ac1c0002row7_col0\" class=\"data row7 col0\" >3</td>\n",
              "            </tr>\n",
              "            <tr>\n",
              "                        <th id=\"T_5b4ff86c_68f3_11ec_9da8_0242ac1c0002level0_row8\" class=\"row_heading level0 row8\" >sunny-81796</th>\n",
              "                        <td id=\"T_5b4ff86c_68f3_11ec_9da8_0242ac1c0002row8_col0\" class=\"data row8 col0\" >3</td>\n",
              "            </tr>\n",
              "            <tr>\n",
              "                        <th id=\"T_5b4ff86c_68f3_11ec_9da8_0242ac1c0002level0_row9\" class=\"row_heading level0 row9\" >pipo-101088</th>\n",
              "                        <td id=\"T_5b4ff86c_68f3_11ec_9da8_0242ac1c0002row9_col0\" class=\"data row9 col0\" >3</td>\n",
              "            </tr>\n",
              "    </tbody></table>"
            ],
            "text/plain": [
              "<pandas.io.formats.style.Styler at 0x7fcf53a73ed0>"
            ]
          },
          "metadata": {},
          "execution_count": 36
        }
      ],
      "source": [
        "df2=pd.DataFrame(df['auteur'].value_counts())\n",
        "df2.iloc[:10,:].style.background_gradient(cmap=sns.light_palette(\"red\", as_cmap=True))\n",
        "# Les utilisateurs ci-dessous sont ceux qui ont le plus fait appel à leur assurance dans le dataset donné"
      ]
    },
    {
      "cell_type": "code",
      "source": [
        "df_most_time_assure=df[df['auteur'].isin(df2[:10].index)]\n",
        "df_most_time_assure=pd.DataFrame(df_most_time_assure.groupby('auteur').mean()['note'].sort_values(ascending=False))\n",
        "_='Parmi les assurés qui ont utilisé le plus de fois leur assurance, voici la moyenne de leurs notes'\n",
        "print(\"\\033[1m\" + _ + \"\\033[0m\")\n",
        "df_most_time_assure.iloc[:10,:].style.background_gradient(cmap=sns.light_palette(\"red\", as_cmap=True))\n"
      ],
      "metadata": {
        "colab": {
          "base_uri": "https://localhost:8080/"
        },
        "id": "fStroELlReZv",
        "outputId": "675a3503-5aea-4c91-edd1-2b7a7b2c1e0b"
      },
      "execution_count": null,
      "outputs": [
        {
          "output_type": "stream",
          "name": "stdout",
          "text": [
            "\u001b[1mParmi les assurés qui ont utilisé le plus de fois leur assurance, voici la moyenne de leurs notes\u001b[0m\n"
          ]
        },
        {
          "output_type": "execute_result",
          "data": {
            "text/html": [
              "<style  type=\"text/css\" >\n",
              "#T_5b563740_68f3_11ec_9da8_0242ac1c0002row0_col0{\n",
              "            background-color:  #ff0000;\n",
              "            color:  #f1f1f1;\n",
              "        }#T_5b563740_68f3_11ec_9da8_0242ac1c0002row1_col0{\n",
              "            background-color:  #fc3b3b;\n",
              "            color:  #f1f1f1;\n",
              "        }#T_5b563740_68f3_11ec_9da8_0242ac1c0002row2_col0,#T_5b563740_68f3_11ec_9da8_0242ac1c0002row3_col0,#T_5b563740_68f3_11ec_9da8_0242ac1c0002row4_col0{\n",
              "            background-color:  #fb5050;\n",
              "            color:  #000000;\n",
              "        }#T_5b563740_68f3_11ec_9da8_0242ac1c0002row5_col0{\n",
              "            background-color:  #fa5959;\n",
              "            color:  #000000;\n",
              "        }#T_5b563740_68f3_11ec_9da8_0242ac1c0002row6_col0{\n",
              "            background-color:  #f5c8c8;\n",
              "            color:  #000000;\n",
              "        }#T_5b563740_68f3_11ec_9da8_0242ac1c0002row7_col0{\n",
              "            background-color:  #f4d2d2;\n",
              "            color:  #000000;\n",
              "        }#T_5b563740_68f3_11ec_9da8_0242ac1c0002row8_col0,#T_5b563740_68f3_11ec_9da8_0242ac1c0002row9_col0{\n",
              "            background-color:  #f3f0f0;\n",
              "            color:  #000000;\n",
              "        }</style><table id=\"T_5b563740_68f3_11ec_9da8_0242ac1c0002\" class=\"dataframe\"><thead>    <tr>        <th class=\"blank level0\" ></th>        <th class=\"col_heading level0 col0\" >note</th>    </tr>    <tr>        <th class=\"index_name level0\" >auteur</th>        <th class=\"blank\" ></th>    </tr></thead><tbody>\n",
              "                <tr>\n",
              "                        <th id=\"T_5b563740_68f3_11ec_9da8_0242ac1c0002level0_row0\" class=\"row_heading level0 row0\" >pj-97010</th>\n",
              "                        <td id=\"T_5b563740_68f3_11ec_9da8_0242ac1c0002row0_col0\" class=\"data row0 col0\" >3.000000</td>\n",
              "            </tr>\n",
              "            <tr>\n",
              "                        <th id=\"T_5b563740_68f3_11ec_9da8_0242ac1c0002level0_row1\" class=\"row_heading level0 row1\" >tontonbubu-54321</th>\n",
              "                        <td id=\"T_5b563740_68f3_11ec_9da8_0242ac1c0002row1_col0\" class=\"data row1 col0\" >2.500000</td>\n",
              "            </tr>\n",
              "            <tr>\n",
              "                        <th id=\"T_5b563740_68f3_11ec_9da8_0242ac1c0002level0_row2\" class=\"row_heading level0 row2\" >roger-j-112045</th>\n",
              "                        <td id=\"T_5b563740_68f3_11ec_9da8_0242ac1c0002row2_col0\" class=\"data row2 col0\" >2.333333</td>\n",
              "            </tr>\n",
              "            <tr>\n",
              "                        <th id=\"T_5b563740_68f3_11ec_9da8_0242ac1c0002level0_row3\" class=\"row_heading level0 row3\" >pipo-101088</th>\n",
              "                        <td id=\"T_5b563740_68f3_11ec_9da8_0242ac1c0002row3_col0\" class=\"data row3 col0\" >2.333333</td>\n",
              "            </tr>\n",
              "            <tr>\n",
              "                        <th id=\"T_5b563740_68f3_11ec_9da8_0242ac1c0002level0_row4\" class=\"row_heading level0 row4\" >draeni-58258</th>\n",
              "                        <td id=\"T_5b563740_68f3_11ec_9da8_0242ac1c0002row4_col0\" class=\"data row4 col0\" >2.333333</td>\n",
              "            </tr>\n",
              "            <tr>\n",
              "                        <th id=\"T_5b563740_68f3_11ec_9da8_0242ac1c0002level0_row5\" class=\"row_heading level0 row5\" >mm-53953</th>\n",
              "                        <td id=\"T_5b563740_68f3_11ec_9da8_0242ac1c0002row5_col0\" class=\"data row5 col0\" >2.250000</td>\n",
              "            </tr>\n",
              "            <tr>\n",
              "                        <th id=\"T_5b563740_68f3_11ec_9da8_0242ac1c0002level0_row6\" class=\"row_heading level0 row6\" >sunny-81796</th>\n",
              "                        <td id=\"T_5b563740_68f3_11ec_9da8_0242ac1c0002row6_col0\" class=\"data row6 col0\" >1.333333</td>\n",
              "            </tr>\n",
              "            <tr>\n",
              "                        <th id=\"T_5b563740_68f3_11ec_9da8_0242ac1c0002level0_row7\" class=\"row_heading level0 row7\" >mikado-50419</th>\n",
              "                        <td id=\"T_5b563740_68f3_11ec_9da8_0242ac1c0002row7_col0\" class=\"data row7 col0\" >1.250000</td>\n",
              "            </tr>\n",
              "            <tr>\n",
              "                        <th id=\"T_5b563740_68f3_11ec_9da8_0242ac1c0002level0_row8\" class=\"row_heading level0 row8\" >misternaad-58517</th>\n",
              "                        <td id=\"T_5b563740_68f3_11ec_9da8_0242ac1c0002row8_col0\" class=\"data row8 col0\" >1.000000</td>\n",
              "            </tr>\n",
              "            <tr>\n",
              "                        <th id=\"T_5b563740_68f3_11ec_9da8_0242ac1c0002level0_row9\" class=\"row_heading level0 row9\" >elbrahmi270-94179</th>\n",
              "                        <td id=\"T_5b563740_68f3_11ec_9da8_0242ac1c0002row9_col0\" class=\"data row9 col0\" >1.000000</td>\n",
              "            </tr>\n",
              "    </tbody></table>"
            ],
            "text/plain": [
              "<pandas.io.formats.style.Styler at 0x7fcf53a83e90>"
            ]
          },
          "metadata": {},
          "execution_count": 37
        }
      ]
    },
    {
      "cell_type": "markdown",
      "source": [
        "--- \n",
        "### Exploration Avis\n",
        "---"
      ],
      "metadata": {
        "id": "9SQz5zuFKaqg"
      }
    },
    {
      "cell_type": "markdown",
      "source": [
        "Wordcloud"
      ],
      "metadata": {
        "id": "JbvzY7gxIeet"
      }
    },
    {
      "cell_type": "code",
      "execution_count": null,
      "metadata": {
        "id": "TZ1iaXpRnwd2",
        "colab": {
          "base_uri": "https://localhost:8080/"
        },
        "outputId": "f2e5d8cf-e5d2-4aaa-9ad8-d1155718c2d7"
      },
      "outputs": [
        {
          "output_type": "execute_result",
          "data": {
            "text/plain": [
              "['meilleurs',\n",
              " 'assurance',\n",
              " 'prix',\n",
              " 'solution',\n",
              " 'rapidité',\n",
              " 'recommande',\n",
              " 'cette',\n",
              " 'compagnie',\n",
              " 'prix',\n",
              " 'attractif',\n",
              " 'service',\n",
              " 'qualité',\n",
              " 'rapidité']"
            ]
          },
          "metadata": {},
          "execution_count": 38
        }
      ],
      "source": [
        "avis_lemmetized[0] \n",
        "#Voici le premier avis suite à notre traitement : c'est une liste de mots clés qui vont permettre de polariser notre reviews"
      ]
    },
    {
      "cell_type": "code",
      "execution_count": null,
      "metadata": {
        "id": "ZUdKfgzTnwd2",
        "colab": {
          "base_uri": "https://localhost:8080/"
        },
        "outputId": "f83e5bfa-7c8c-4441-bb36-f533d3013a47"
      },
      "outputs": [
        {
          "output_type": "execute_result",
          "data": {
            "text/plain": [
              "24105"
            ]
          },
          "metadata": {},
          "execution_count": 39
        }
      ],
      "source": [
        "len(avis_lemmetized) # Soit le nombre de reviews total"
      ]
    },
    {
      "cell_type": "code",
      "source": [
        "avis_processed=[]\n",
        "for i in range(len(avis_lemmetized)):\n",
        "  avis_processed.append(' '.join(avis_lemmetized[i]))"
      ],
      "metadata": {
        "id": "vLBP44GmxYFB"
      },
      "execution_count": null,
      "outputs": []
    },
    {
      "cell_type": "code",
      "source": [
        "wordcloud = WordCloud(stopwords = all_stopwords,collocations=False,background_color='white').generate(' '.join(avis_processed))\n",
        "plt.figure(figsize=(10,10))\n",
        "plt.imshow(wordcloud, interpolation='bilInear')\n",
        "plt.axis('off')\n",
        "plt.show()"
      ],
      "metadata": {
        "colab": {
          "base_uri": "https://localhost:8080/"
        },
        "id": "MAx43-jyvtLb",
        "outputId": "1d8e0d1a-5bb5-4ed9-b5e0-25b51b12401a"
      },
      "execution_count": null,
      "outputs": [
        {
          "output_type": "display_data",
          "data": {
            "image/png": "[encoded data removed]",
            "text/plain": [
              "<Figure size 720x720 with 1 Axes>"
            ]
          },
          "metadata": {
            "needs_background": "light"
          }
        }
      ]
    },
    {
      "cell_type": "markdown",
      "metadata": {
        "id": "UahzYgqhnwd2"
      },
      "source": [
        "<br>\n",
        "<br>\n",
        "\n",
        "---\n",
        "\n",
        "\n",
        "# Modeling \n",
        "\n",
        "\n",
        "---\n",
        "<br><br>\n"
      ]
    },
    {
      "cell_type": "markdown",
      "source": [
        "\n",
        "---\n",
        "## Unsupervised Learning :\n",
        "---\n",
        "The unsupervised learning part must explain what topics are present in the dataset "
      ],
      "metadata": {
        "id": "qxmTCQgBs5Tr"
      }
    },
    {
      "cell_type": "markdown",
      "source": [
        "### Word embedding"
      ],
      "metadata": {
        "id": "TkPhy6MzroSu"
      }
    },
    {
      "cell_type": "code",
      "execution_count": null,
      "metadata": {
        "id": "Xdd7eDRCnwd3"
      },
      "outputs": [],
      "source": [
        "#Word embedding model\n",
        "mymodel = Word2Vec(avis_lemmetized, min_count=1)"
      ]
    },
    {
      "cell_type": "code",
      "source": [
        "#Bonus : Similar words, constat intéressant\n",
        "mymodel.wv.most_similar(\"parfait\")"
      ],
      "metadata": {
        "colab": {
          "base_uri": "https://localhost:8080/"
        },
        "id": "XXKWr9QUWQHY",
        "outputId": "680dc270-f5bf-4c9f-bfd6-68657183b22d"
      },
      "execution_count": null,
      "outputs": [
        {
          "output_type": "execute_result",
          "data": {
            "text/plain": [
              "[('nickel', 0.9645322561264038),\n",
              " ('top', 0.9467983841896057),\n",
              " ('super', 0.9359581470489502),\n",
              " ('clair', 0.9266244173049927),\n",
              " ('accessible', 0.9225284457206726),\n",
              " ('transparent', 0.919940710067749),\n",
              " ('réactif', 0.9183731079101562),\n",
              " ('satisfaisant', 0.9182208776473999),\n",
              " ('reactif', 0.9172157049179077),\n",
              " (\"j'aime\", 0.9141806364059448)]"
            ]
          },
          "metadata": {},
          "execution_count": 43
        }
      ]
    },
    {
      "cell_type": "code",
      "source": [
        "#Cette fonction génère un vecteur de taille 100 pour chaque avis grace au word2vec\n",
        "def vectorize(list_avis, model):\n",
        "    \"\"\"\n",
        "    Arguments:\n",
        "        list_avis: List of documents\n",
        "        model: Word2Vec\n",
        "\n",
        "    Retourne un vecteur pour 1 avis\n",
        "        \n",
        "    \"\"\"\n",
        "    features = []\n",
        "\n",
        "    for tokens in list_avis:\n",
        "        zero_vector = np.zeros(model.vector_size)\n",
        "        vectors = []\n",
        "        for token in tokens:\n",
        "            if token in model.wv:\n",
        "                try:\n",
        "                    vectors.append(model.wv[token])\n",
        "                except KeyError:\n",
        "                    continue\n",
        "        if vectors:\n",
        "            vectors = np.asarray(vectors)\n",
        "            avg_vec = vectors.mean(axis=0)\n",
        "            features.append(avg_vec)\n",
        "        else:\n",
        "            features.append(zero_vector)\n",
        "    return features\n",
        "    \n"
      ],
      "metadata": {
        "id": "ykjibGnwWQJf"
      },
      "execution_count": null,
      "outputs": []
    },
    {
      "cell_type": "code",
      "source": [
        "vectorized_docs = vectorize(avis_lemmetized, model=mymodel)\n",
        "len(vectorized_docs), len(vectorized_docs[0])"
      ],
      "metadata": {
        "colab": {
          "base_uri": "https://localhost:8080/"
        },
        "id": "sBayr85FWQLv",
        "outputId": "21bfa41d-d469-4f0e-d64e-43723fd8a1b1"
      },
      "execution_count": null,
      "outputs": [
        {
          "output_type": "execute_result",
          "data": {
            "text/plain": [
              "(24105, 100)"
            ]
          },
          "metadata": {},
          "execution_count": 45
        }
      ]
    },
    {
      "cell_type": "code",
      "source": [
        "vectorized_docs[0] # Voici un aperçu de la vectorisation du premier avis"
      ],
      "metadata": {
        "colab": {
          "base_uri": "https://localhost:8080/"
        },
        "id": "ASOmVbe3Te__",
        "outputId": "69b2b23f-0e88-4a08-e804-8ab30d62dea7"
      },
      "execution_count": null,
      "outputs": [
        {
          "output_type": "execute_result",
          "data": {
            "text/plain": [
              "array([-0.12030915,  1.5667001 ,  1.0455183 ,  0.16334309,  0.33292466,\n",
              "       -0.08772627,  0.89166063, -0.2439219 , -1.6282983 ,  0.14398885,\n",
              "       -0.42065904, -0.55291855,  0.66293377,  1.1156573 , -0.45299435,\n",
              "       -0.09995015, -0.36699104, -0.8925717 , -0.5676291 , -0.6122607 ,\n",
              "        1.2252882 ,  0.34162897, -0.33333305, -0.8314115 , -0.0702949 ,\n",
              "        0.47059187, -0.7027081 ,  0.2842341 , -0.05662922,  0.03093462,\n",
              "       -0.44937712, -0.15487632, -0.35760525, -0.94063866,  0.80877566,\n",
              "       -0.97216266, -0.5903462 , -0.27822545, -0.07994939, -0.19290502,\n",
              "       -0.39893678, -0.03985781, -0.261023  , -0.2222208 , -0.36258096,\n",
              "       -0.45722383,  0.42500335, -0.03615727, -0.50143325, -0.7320779 ,\n",
              "        0.05277481, -0.6671134 ,  0.831668  , -0.86723804, -0.885435  ,\n",
              "        0.39766037,  0.66545355, -0.74362713,  0.40486962, -0.39682734,\n",
              "        1.4609144 ,  0.8824856 ,  0.896216  , -0.19673134,  0.51624686,\n",
              "       -0.7175859 ,  0.68125504,  0.6954747 , -1.01827   ,  0.75413483,\n",
              "        1.0789847 ,  0.5129062 , -0.6168181 , -0.46046898, -1.0352619 ,\n",
              "       -1.0676929 ,  0.10395252, -0.20110346,  0.7714897 , -1.0455966 ,\n",
              "       -0.4340695 , -0.21485418,  0.5839078 ,  1.3922791 ,  0.07362816,\n",
              "        0.44414014,  1.0314573 , -0.12433691, -0.59645003, -0.67310596,\n",
              "       -0.30618367,  0.3868671 ,  0.30462915, -0.2265767 ,  0.18228208,\n",
              "       -0.3970098 , -0.42066684, -1.1273891 ,  0.17141038, -0.02771422],\n",
              "      dtype=float32)"
            ]
          },
          "metadata": {},
          "execution_count": 46
        }
      ]
    },
    {
      "cell_type": "markdown",
      "source": [
        "### KMeans"
      ],
      "metadata": {
        "id": "LDBPBQnnrtbH"
      }
    },
    {
      "cell_type": "code",
      "execution_count": null,
      "metadata": {
        "id": "3RkHXOrDnwd-"
      },
      "outputs": [],
      "source": [
        "new_kmeans = KMeans(n_clusters=2).fit(vectorized_docs)"
      ]
    },
    {
      "cell_type": "markdown",
      "source": [
        "### Data visualisation : model performance"
      ],
      "metadata": {
        "id": "gOA9A9Fhrxfu"
      }
    },
    {
      "cell_type": "code",
      "source": [
        "test=df[['note','avis']]"
      ],
      "metadata": {
        "id": "6L_Z8RzdXVMg"
      },
      "execution_count": null,
      "outputs": []
    },
    {
      "cell_type": "code",
      "source": [
        "test['cluster'] = new_kmeans.labels_"
      ],
      "metadata": {
        "id": "dmKljx55XVXv",
        "colab": {
          "base_uri": "https://localhost:8080/"
        },
        "outputId": "d2e47f75-e1a4-4b25-d148-22486d326e3e"
      },
      "execution_count": null,
      "outputs": [
        {
          "output_type": "stream",
          "name": "stderr",
          "text": [
            "/usr/local/lib/python3.7/dist-packages/ipykernel_launcher.py:1: SettingWithCopyWarning: \n",
            "A value is trying to be set on a copy of a slice from a DataFrame.\n",
            "Try using .loc[row_indexer,col_indexer] = value instead\n",
            "\n",
            "See the caveats in the documentation: https://pandas.pydata.org/pandas-docs/stable/user_guide/indexing.html#returning-a-view-versus-a-copy\n",
            "  \"\"\"Entry point for launching an IPython kernel.\n"
          ]
        }
      ]
    },
    {
      "cell_type": "code",
      "source": [
        "test.head()"
      ],
      "metadata": {
        "colab": {
          "base_uri": "https://localhost:8080/",
          "height": 206
        },
        "id": "TTmbPAohQTmN",
        "outputId": "8b366d7e-50a5-4eca-f9db-4c848c4318b8"
      },
      "execution_count": null,
      "outputs": [
        {
          "output_type": "execute_result",
          "data": {
            "text/html": [
              "\n",
              "  <div id=\"df-3c7aedf4-7039-4cec-b158-c4209afd7a59\">\n",
              "    <div class=\"colab-df-container\">\n",
              "      <div>\n",
              "<style scoped>\n",
              "    .dataframe tbody tr th:only-of-type {\n",
              "        vertical-align: middle;\n",
              "    }\n",
              "\n",
              "    .dataframe tbody tr th {\n",
              "        vertical-align: top;\n",
              "    }\n",
              "\n",
              "    .dataframe thead th {\n",
              "        text-align: right;\n",
              "    }\n",
              "</style>\n",
              "<table border=\"1\" class=\"dataframe\">\n",
              "  <thead>\n",
              "    <tr style=\"text-align: right;\">\n",
              "      <th></th>\n",
              "      <th>note</th>\n",
              "      <th>avis</th>\n",
              "      <th>cluster</th>\n",
              "      <th>polarité_KMeans</th>\n",
              "      <th>ax_1</th>\n",
              "      <th>ax_2</th>\n",
              "    </tr>\n",
              "  </thead>\n",
              "  <tbody>\n",
              "    <tr>\n",
              "      <th>0</th>\n",
              "      <td>5</td>\n",
              "      <td>Meilleurs assurances, prix, solutions, écoute,...</td>\n",
              "      <td>0</td>\n",
              "      <td>Positif</td>\n",
              "      <td>3.707660</td>\n",
              "      <td>-1.103283</td>\n",
              "    </tr>\n",
              "    <tr>\n",
              "      <th>1</th>\n",
              "      <td>4</td>\n",
              "      <td>je suis globalement satisfait , sauf que vous ...</td>\n",
              "      <td>0</td>\n",
              "      <td>Positif</td>\n",
              "      <td>0.967788</td>\n",
              "      <td>1.226112</td>\n",
              "    </tr>\n",
              "    <tr>\n",
              "      <th>2</th>\n",
              "      <td>5</td>\n",
              "      <td>Prix tres abordable plusieurs options s'offren...</td>\n",
              "      <td>1</td>\n",
              "      <td>Négatif</td>\n",
              "      <td>0.017288</td>\n",
              "      <td>-0.809074</td>\n",
              "    </tr>\n",
              "    <tr>\n",
              "      <th>3</th>\n",
              "      <td>4</td>\n",
              "      <td>je satisfait du service, une réponse très rapi...</td>\n",
              "      <td>0</td>\n",
              "      <td>Positif</td>\n",
              "      <td>3.015088</td>\n",
              "      <td>-0.315450</td>\n",
              "    </tr>\n",
              "    <tr>\n",
              "      <th>4</th>\n",
              "      <td>1</td>\n",
              "      <td>Client depuis plus de 25 ans, très déçu de cet...</td>\n",
              "      <td>1</td>\n",
              "      <td>Négatif</td>\n",
              "      <td>-1.271385</td>\n",
              "      <td>-0.568267</td>\n",
              "    </tr>\n",
              "  </tbody>\n",
              "</table>\n",
              "</div>\n",
              "      <button class=\"colab-df-convert\" onclick=\"convertToInteractive('df-3c7aedf4-7039-4cec-b158-c4209afd7a59')\"\n",
              "              title=\"Convert this dataframe to an interactive table.\"\n",
              "              style=\"display:none;\">\n",
              "        \n",
              "  <svg xmlns=\"http://www.w3.org/2000/svg\" height=\"24px\"viewBox=\"0 0 24 24\"\n",
              "       width=\"24px\">\n",
              "    <path d=\"M0 0h24v24H0V0z\" fill=\"none\"/>\n",
              "    <path d=\"M18.56 5.44l.94 2.06.94-2.06 2.06-.94-2.06-.94-.94-2.06-.94 2.06-2.06.94zm-11 1L8.5 8.5l.94-2.06 2.06-.94-2.06-.94L8.5 2.5l-.94 2.06-2.06.94zm10 10l.94 2.06.94-2.06 2.06-.94-2.06-.94-.94-2.06-.94 2.06-2.06.94z\"/><path d=\"M17.41 7.96l-1.37-1.37c-.4-.4-.92-.59-1.43-.59-.52 0-1.04.2-1.43.59L10.3 9.45l-7.72 7.72c-.78.78-.78 2.05 0 2.83L4 21.41c.39.39.9.59 1.41.59.51 0 1.02-.2 1.41-.59l7.78-7.78 2.81-2.81c.8-.78.8-2.07 0-2.86zM5.41 20L4 18.59l7.72-7.72 1.47 1.35L5.41 20z\"/>\n",
              "  </svg>\n",
              "      </button>\n",
              "      \n",
              "  <style>\n",
              "    .colab-df-container {\n",
              "      display:flex;\n",
              "      flex-wrap:wrap;\n",
              "      gap: 12px;\n",
              "    }\n",
              "\n",
              "    .colab-df-convert {\n",
              "      background-color: #E8F0FE;\n",
              "      border: none;\n",
              "      border-radius: 50%;\n",
              "      cursor: pointer;\n",
              "      display: none;\n",
              "      fill: #1967D2;\n",
              "      height: 32px;\n",
              "      padding: 0 0 0 0;\n",
              "      width: 32px;\n",
              "    }\n",
              "\n",
              "    .colab-df-convert:hover {\n",
              "      background-color: #E2EBFA;\n",
              "      box-shadow: 0px 1px 2px rgba(60, 64, 67, 0.3), 0px 1px 3px 1px rgba(60, 64, 67, 0.15);\n",
              "      fill: #174EA6;\n",
              "    }\n",
              "\n",
              "    [theme=dark] .colab-df-convert {\n",
              "      background-color: #3B4455;\n",
              "      fill: #D2E3FC;\n",
              "    }\n",
              "\n",
              "    [theme=dark] .colab-df-convert:hover {\n",
              "      background-color: #434B5C;\n",
              "      box-shadow: 0px 1px 3px 1px rgba(0, 0, 0, 0.15);\n",
              "      filter: drop-shadow(0px 1px 2px rgba(0, 0, 0, 0.3));\n",
              "      fill: #FFFFFF;\n",
              "    }\n",
              "  </style>\n",
              "\n",
              "      <script>\n",
              "        const buttonEl =\n",
              "          document.querySelector('#df-3c7aedf4-7039-4cec-b158-c4209afd7a59 button.colab-df-convert');\n",
              "        buttonEl.style.display =\n",
              "          google.colab.kernel.accessAllowed ? 'block' : 'none';\n",
              "\n",
              "        async function convertToInteractive(key) {\n",
              "          const element = document.querySelector('#df-3c7aedf4-7039-4cec-b158-c4209afd7a59');\n",
              "          const dataTable =\n",
              "            await google.colab.kernel.invokeFunction('convertToInteractive',\n",
              "                                                     [key], {});\n",
              "          if (!dataTable) return;\n",
              "\n",
              "          const docLinkHtml = 'Like what you see? Visit the ' +\n",
              "            '<a target=\"_blank\" href=https://colab.research.google.com/notebooks/data_table.ipynb>data table notebook</a>'\n",
              "            + ' to learn more about interactive tables.';\n",
              "          element.innerHTML = '';\n",
              "          dataTable['output_type'] = 'display_data';\n",
              "          await google.colab.output.renderOutput(dataTable, element);\n",
              "          const docLink = document.createElement('div');\n",
              "          docLink.innerHTML = docLinkHtml;\n",
              "          element.appendChild(docLink);\n",
              "        }\n",
              "      </script>\n",
              "    </div>\n",
              "  </div>\n",
              "  "
            ],
            "text/plain": [
              "   note                                               avis  ...      ax_1      ax_2\n",
              "0     5  Meilleurs assurances, prix, solutions, écoute,...  ...  3.707660 -1.103283\n",
              "1     4  je suis globalement satisfait , sauf que vous ...  ...  0.967788  1.226112\n",
              "2     5  Prix tres abordable plusieurs options s'offren...  ...  0.017288 -0.809074\n",
              "3     4  je satisfait du service, une réponse très rapi...  ...  3.015088 -0.315450\n",
              "4     1  Client depuis plus de 25 ans, très déçu de cet...  ... -1.271385 -0.568267\n",
              "\n",
              "[5 rows x 6 columns]"
            ]
          },
          "metadata": {},
          "execution_count": 77
        }
      ]
    },
    {
      "cell_type": "code",
      "source": [
        "test['polarité_KMeans']=['Positif' if x ==0 else 'Négatif' for x in test['cluster']]"
      ],
      "metadata": {
        "colab": {
          "base_uri": "https://localhost:8080/"
        },
        "id": "U3uiS5blbYTE",
        "outputId": "a2a4ee21-7f9e-4ca2-f7ec-7b80dd23c524"
      },
      "execution_count": null,
      "outputs": [
        {
          "output_type": "stream",
          "name": "stderr",
          "text": [
            "/usr/local/lib/python3.7/dist-packages/ipykernel_launcher.py:1: SettingWithCopyWarning: \n",
            "A value is trying to be set on a copy of a slice from a DataFrame.\n",
            "Try using .loc[row_indexer,col_indexer] = value instead\n",
            "\n",
            "See the caveats in the documentation: https://pandas.pydata.org/pandas-docs/stable/user_guide/indexing.html#returning-a-view-versus-a-copy\n",
            "  \"\"\"Entry point for launching an IPython kernel.\n"
          ]
        }
      ]
    },
    {
      "cell_type": "code",
      "source": [
        "for i in range(10):\n",
        "  print(\"N°\"+str(i)+' - Note : '+str(df['note'][i])+' - Polarisation prédite : '+ test['polarité_KMeans'][i]+'\\nAvis : '+df['avis'][i]+'\\n')\n",
        "  \n",
        "#Parmi ces 10 premiers avis, 9 sont bien classifiés par le modèle, le seul qui n'est pas bien classifié est l'avis N°2 car le modèle a dû être trompé par le mot \"zero\" alors que l'avis est positif. \n",
        "#On peut comparer la note à la polarisation donnée au dessus par le KMeans"
      ],
      "metadata": {
        "colab": {
          "base_uri": "https://localhost:8080/"
        },
        "id": "IIl46KKpKHQC",
        "outputId": "2e3ca3da-d96f-4bd8-81aa-f4155fd9db58"
      },
      "execution_count": null,
      "outputs": [
        {
          "output_type": "stream",
          "name": "stdout",
          "text": [
            "N°0 - Note : 5 - Polarisation prédite : Positif\n",
            "Avis : Meilleurs assurances, prix, solutions, écoute, rapidité, et je recommande cette compagnie pour vous \r\n",
            "Des prix attractif et services de qualité et rapidité \n",
            "\n",
            "N°1 - Note : 4 - Polarisation prédite : Positif\n",
            "Avis : je suis globalement satisfait , sauf que vous avez un problème avec votre site internet ,impossible de déclarer un sinistre en ligne après plusieurs tentatives déclaration faite par téléphone ou tout c'est très bien passé , interlocutrice compétente et très agréable \n",
            "\n",
            "N°2 - Note : 5 - Polarisation prédite : Négatif\n",
            "Avis : Prix tres abordable plusieurs options s'offrent a nous comme le boitier connecter à la voiture, l'option tranquiliter et zero franchise ce qui est tout a fait plaisant\n",
            "\n",
            "N°3 - Note : 4 - Polarisation prédite : Positif\n",
            "Avis : je satisfait du service, une réponse très rapide de votre service .je vous en remercie, vous êtes une assurance la moins cher sur le marche, Cordialement. \n",
            "\n",
            "N°4 - Note : 1 - Polarisation prédite : Négatif\n",
            "Avis : Client depuis plus de 25 ans, très déçu de cette \"mutuelle\" qui n'a plus rien d'une Mutuelle, la recherche du profit immédiat est devenu leur priorité. à l'agence on ne sait que essayer de vous fourguer des contrats inutiles, on vous fait payer une protection juridique sur chaque contrat mais vous ne serez défendu qu'une fois!  dès qu'il y a le moindre sinistre il ne sont pas là pour vous défendre mais au contraire pour vous mettre d'office tous les tords pour faire descendre votre bonus qui est trop haut ! Bref ils n'ont plus qu'un seul but vous faire payer le plus possible. Hélas c'est maintenant le lot de tous les assureurs. Donc cherchez à payer le moins possible et surtout de ne pas avoir besoin d'eux !!! \n",
            "\n",
            "N°5 - Note : 1 - Polarisation prédite : Négatif\n",
            "Avis : Vente forcée par téléphone, prétextant des évènements graves pour mes proches, mais sans même connaître ma date de naissance !\r\n",
            "Néoliane va dire que c'est la faute de la plateforme téléphonique au Magreb, mais ce démarchage est abusif et angoissant. De plus, je suis iscrit sur BLOCTEL\r\n",
            "A fuir et à reporter aux services de répressions des fraude\n",
            "\n",
            "N°6 - Note : 3 - Polarisation prédite : Positif\n",
            "Avis : Nouveau client satisfait du prix et des services.\r\n",
            "Je ne donnerai pas plus d'avis car je suis nouveau client chez vous. J'espère que tout se passera bien merci  \n",
            "\n",
            "N°7 - Note : 1 - Polarisation prédite : Négatif\n",
            "Avis : Un assureur m'a contacté par telephone pour me vendre cette assurance pour mon chiot en me vendant que les jolis détails, j'ai donc souscrit à l'assurance pour etre remboursée à 80%.\r\n",
            "Je vais ensuite chez le vétérinaire pour vacciner mon chiot, et on me prescrit une pommade pour des boutons qu'il a, santé vet ne me la rembourse pas car il y a une carrence de 45 jours dont on ne m'avait pas parlé, ce détail passe encore.\r\n",
            " 1 mois plus tard je fais le rappel du vaccin pour mon chiot (comme pour tous les chiots et achète des vermifuges), j'envoie donc une facture de 118 euros et la on me dit que l'on ne me rembourse pas car je n'ai droit qu'à 50 euros de frais par an (que l'on ne m'avait pas dis non plus sinon je n'aurais jamais souscrit, le but de l'assurance est d'etre remboursé)\r\n",
            "J'appelle l'assurance pour résilier et la bien entendu on me dit que je dois attendre 1 an pour me rétracter chose qu'on ne m'avait jamais dite.\r\n",
            "Fuyez cette assurance!!\n",
            "\n",
            "N°8 - Note : 1 - Polarisation prédite : Négatif\n",
            "Avis : Je ne peux que rejoindre les nombreux avis négatifs. Je regrette même d'avoir dû mettre 1 étoile tant le service ET les remboursements sont inexistants. En attente de remboursements optique et ostéopathie depuis plus de 10 semaines maintenant et toujours le même discours bien rodé : \"Nous avons du retard mais vos demandes vont être traitées avant la fin de semaine!\". Compter en moyenne 45 minutes par appel pour enfin avoir un \"conseiller\" avec qui il faudra à nouveau reparcourir tous les dossiers ouverts (alors qu'ils sont sensés avoir pleine visibilité dans leur système). Le pire, leur site annonce des remboursements traités alors que ceux-ci n'ont toujours pas été crédités sur mon compte bancaire!\n",
            "\n",
            "N°9 - Note : 1 - Polarisation prédite : Négatif\n",
            "Avis : GENERALI ASSURANCES VIE PATRIMOINE Très mauvais service client, pas sérieux, mauvais payeur si on demande une avance sur son éparge Générali Vie\n",
            "\n"
          ]
        }
      ]
    },
    {
      "cell_type": "code",
      "source": [
        "_='ON DISTINGUE DANS LES CLUSTERS QUE LE 0 REPRESENTE LES AVIS POSITIFS ET LE 1 REPRESENTE LES AVIS NEGATIFS. PARMI LES 10 PREMIERS AVIS, TOUS SONT ICI BIEN CLASSIFIES SAUF LE N°2'\n",
        "print(\"\\033[1m\" + _ + \"\\033[91m\")"
      ],
      "metadata": {
        "colab": {
          "base_uri": "https://localhost:8080/"
        },
        "id": "w58k9zo5LjKF",
        "outputId": "7f4de0eb-7be3-4051-86c1-fd8c263be4e1"
      },
      "execution_count": null,
      "outputs": [
        {
          "output_type": "stream",
          "name": "stdout",
          "text": [
            "\u001b[1mON DISTINGUE DANS LES CLUSTERS QUE LE 0 REPRESENTE LES AVIS POSITIFS ET LE 1 REPRESENTE LES AVIS NEGATIFS. PARMI LES 10 PREMIERS AVIS, TOUS SONT ICI BIEN CLASSIFIES SAUF LE N°2\u001b[91m\n"
          ]
        }
      ]
    },
    {
      "cell_type": "code",
      "source": [
        "def print_top_10(df, col):\n",
        "    res = df[col].head(20)\n",
        "    for el in res:\n",
        "        print(f'    - {el}')"
      ],
      "metadata": {
        "id": "q8W0_dCgcdau"
      },
      "execution_count": null,
      "outputs": []
    },
    {
      "cell_type": "code",
      "source": [
        "df1=pd.DataFrame(test.groupby(['polarité_KMeans','note']).size())"
      ],
      "metadata": {
        "id": "84W3BgddcddX"
      },
      "execution_count": null,
      "outputs": []
    },
    {
      "cell_type": "code",
      "source": [
        "df1.style.background_gradient(cmap=sns.light_palette(\"red\", as_cmap=True))"
      ],
      "metadata": {
        "colab": {
          "base_uri": "https://localhost:8080/",
          "height": 394
        },
        "id": "uOCtlj8Kcdfr",
        "outputId": "57c335a8-dda8-4957-c5a0-20f0c7c78d1b"
      },
      "execution_count": null,
      "outputs": [
        {
          "output_type": "execute_result",
          "data": {
            "text/html": [
              "<style  type=\"text/css\" >\n",
              "#T_6839d16a_68f3_11ec_9da8_0242ac1c0002row0_col0{\n",
              "            background-color:  #ff0000;\n",
              "            color:  #f1f1f1;\n",
              "        }#T_6839d16a_68f3_11ec_9da8_0242ac1c0002row1_col0{\n",
              "            background-color:  #f97e7e;\n",
              "            color:  #000000;\n",
              "        }#T_6839d16a_68f3_11ec_9da8_0242ac1c0002row2_col0{\n",
              "            background-color:  #f6afaf;\n",
              "            color:  #000000;\n",
              "        }#T_6839d16a_68f3_11ec_9da8_0242ac1c0002row3_col0{\n",
              "            background-color:  #f5c8c7;\n",
              "            color:  #000000;\n",
              "        }#T_6839d16a_68f3_11ec_9da8_0242ac1c0002row4_col0{\n",
              "            background-color:  #f4d9d9;\n",
              "            color:  #000000;\n",
              "        }#T_6839d16a_68f3_11ec_9da8_0242ac1c0002row5_col0{\n",
              "            background-color:  #f3f0f0;\n",
              "            color:  #000000;\n",
              "        }#T_6839d16a_68f3_11ec_9da8_0242ac1c0002row6_col0{\n",
              "            background-color:  #f3eeee;\n",
              "            color:  #000000;\n",
              "        }#T_6839d16a_68f3_11ec_9da8_0242ac1c0002row7_col0{\n",
              "            background-color:  #f5c8c8;\n",
              "            color:  #000000;\n",
              "        }#T_6839d16a_68f3_11ec_9da8_0242ac1c0002row8_col0{\n",
              "            background-color:  #f97c7c;\n",
              "            color:  #000000;\n",
              "        }#T_6839d16a_68f3_11ec_9da8_0242ac1c0002row9_col0{\n",
              "            background-color:  #fa6b6b;\n",
              "            color:  #000000;\n",
              "        }</style><table id=\"T_6839d16a_68f3_11ec_9da8_0242ac1c0002\" class=\"dataframe\"><thead>    <tr>        <th class=\"blank\" ></th>        <th class=\"blank level0\" ></th>        <th class=\"col_heading level0 col0\" >0</th>    </tr>    <tr>        <th class=\"index_name level0\" >polarité_KMeans</th>        <th class=\"index_name level1\" >note</th>        <th class=\"blank\" ></th>    </tr></thead><tbody>\n",
              "                <tr>\n",
              "                        <th id=\"T_6839d16a_68f3_11ec_9da8_0242ac1c0002level0_row0\" class=\"row_heading level0 row0\" rowspan=5>Négatif</th>\n",
              "                        <th id=\"T_6839d16a_68f3_11ec_9da8_0242ac1c0002level1_row0\" class=\"row_heading level1 row0\" >1</th>\n",
              "                        <td id=\"T_6839d16a_68f3_11ec_9da8_0242ac1c0002row0_col0\" class=\"data row0 col0\" >7073</td>\n",
              "            </tr>\n",
              "            <tr>\n",
              "                                <th id=\"T_6839d16a_68f3_11ec_9da8_0242ac1c0002level1_row1\" class=\"row_heading level1 row1\" >2</th>\n",
              "                        <td id=\"T_6839d16a_68f3_11ec_9da8_0242ac1c0002row1_col0\" class=\"data row1 col0\" >3456</td>\n",
              "            </tr>\n",
              "            <tr>\n",
              "                                <th id=\"T_6839d16a_68f3_11ec_9da8_0242ac1c0002level1_row2\" class=\"row_heading level1 row2\" >3</th>\n",
              "                        <td id=\"T_6839d16a_68f3_11ec_9da8_0242ac1c0002row2_col0\" class=\"data row2 col0\" >2055</td>\n",
              "            </tr>\n",
              "            <tr>\n",
              "                                <th id=\"T_6839d16a_68f3_11ec_9da8_0242ac1c0002level1_row3\" class=\"row_heading level1 row3\" >4</th>\n",
              "                        <td id=\"T_6839d16a_68f3_11ec_9da8_0242ac1c0002row3_col0\" class=\"data row3 col0\" >1370</td>\n",
              "            </tr>\n",
              "            <tr>\n",
              "                                <th id=\"T_6839d16a_68f3_11ec_9da8_0242ac1c0002level1_row4\" class=\"row_heading level1 row4\" >5</th>\n",
              "                        <td id=\"T_6839d16a_68f3_11ec_9da8_0242ac1c0002row4_col0\" class=\"data row4 col0\" >865</td>\n",
              "            </tr>\n",
              "            <tr>\n",
              "                        <th id=\"T_6839d16a_68f3_11ec_9da8_0242ac1c0002level0_row5\" class=\"row_heading level0 row5\" rowspan=5>Positif</th>\n",
              "                        <th id=\"T_6839d16a_68f3_11ec_9da8_0242ac1c0002level1_row5\" class=\"row_heading level1 row5\" >1</th>\n",
              "                        <td id=\"T_6839d16a_68f3_11ec_9da8_0242ac1c0002row5_col0\" class=\"data row5 col0\" >198</td>\n",
              "            </tr>\n",
              "            <tr>\n",
              "                                <th id=\"T_6839d16a_68f3_11ec_9da8_0242ac1c0002level1_row6\" class=\"row_heading level1 row6\" >2</th>\n",
              "                        <td id=\"T_6839d16a_68f3_11ec_9da8_0242ac1c0002row6_col0\" class=\"data row6 col0\" >261</td>\n",
              "            </tr>\n",
              "            <tr>\n",
              "                                <th id=\"T_6839d16a_68f3_11ec_9da8_0242ac1c0002level1_row7\" class=\"row_heading level1 row7\" >3</th>\n",
              "                        <td id=\"T_6839d16a_68f3_11ec_9da8_0242ac1c0002row7_col0\" class=\"data row7 col0\" >1327</td>\n",
              "            </tr>\n",
              "            <tr>\n",
              "                                <th id=\"T_6839d16a_68f3_11ec_9da8_0242ac1c0002level1_row8\" class=\"row_heading level1 row8\" >4</th>\n",
              "                        <td id=\"T_6839d16a_68f3_11ec_9da8_0242ac1c0002row8_col0\" class=\"data row8 col0\" >3515</td>\n",
              "            </tr>\n",
              "            <tr>\n",
              "                                <th id=\"T_6839d16a_68f3_11ec_9da8_0242ac1c0002level1_row9\" class=\"row_heading level1 row9\" >5</th>\n",
              "                        <td id=\"T_6839d16a_68f3_11ec_9da8_0242ac1c0002row9_col0\" class=\"data row9 col0\" >3985</td>\n",
              "            </tr>\n",
              "    </tbody></table>"
            ],
            "text/plain": [
              "<pandas.io.formats.style.Styler at 0x7fcf532a3190>"
            ]
          },
          "metadata": {},
          "execution_count": 55
        }
      ]
    },
    {
      "cell_type": "code",
      "source": [
        "fig, axes = plt.subplots(nrows=1, ncols=2)\n",
        "pd.DataFrame(test[test['polarité_KMeans']=='Négatif']['note'].value_counts(ascending=False)).plot(kind='bar',color='black',ax=axes[0],title='Répartition des notes des avis prédits négatifs',figsize=(19,7))\n",
        "pd.DataFrame(test[test['polarité_KMeans']=='Positif']['note'].value_counts(ascending=True)).plot(kind='bar',color='black',ax=axes[1],title='Répartition des notes des avis prédits positifs ',figsize=(19,7))"
      ],
      "metadata": {
        "colab": {
          "base_uri": "https://localhost:8080/",
          "height": 458
        },
        "id": "ZacJvRcmcdh_",
        "outputId": "bae526d4-15c4-445c-bca1-9142c9984538"
      },
      "execution_count": null,
      "outputs": [
        {
          "output_type": "execute_result",
          "data": {
            "text/plain": [
              "<matplotlib.axes._subplots.AxesSubplot at 0x7fcf52d76290>"
            ]
          },
          "metadata": {},
          "execution_count": 79
        },
        {
          "output_type": "display_data",
          "data": {
            "image/png": "[encoded data removed]",
            "text/plain": [
              "<Figure size 1368x504 with 2 Axes>"
            ]
          },
          "metadata": {
            "needs_background": "light"
          }
        }
      ]
    },
    {
      "cell_type": "markdown",
      "source": [
        "### PCA"
      ],
      "metadata": {
        "id": "XezF72kbrgeD"
      }
    },
    {
      "cell_type": "code",
      "source": [
        "pca = PCA(2)\n",
        "res = pca.fit_transform(vectorized_docs)"
      ],
      "metadata": {
        "id": "wHCUb-sFq3AJ"
      },
      "execution_count": null,
      "outputs": []
    },
    {
      "cell_type": "code",
      "source": [
        "ax_1 = [el[0] for el in res]\n",
        "ax_2 = [el[1] for el in res]\n",
        "test['ax_1'] = ax_1\n",
        "test['ax_2'] = ax_2"
      ],
      "metadata": {
        "colab": {
          "base_uri": "https://localhost:8080/"
        },
        "id": "UoxIhfC7q3Cv",
        "outputId": "bb0cb0a8-3a6c-4888-fc66-970e81c7f5c1"
      },
      "execution_count": null,
      "outputs": [
        {
          "output_type": "stream",
          "name": "stderr",
          "text": [
            "/usr/local/lib/python3.7/dist-packages/ipykernel_launcher.py:3: SettingWithCopyWarning: \n",
            "A value is trying to be set on a copy of a slice from a DataFrame.\n",
            "Try using .loc[row_indexer,col_indexer] = value instead\n",
            "\n",
            "See the caveats in the documentation: https://pandas.pydata.org/pandas-docs/stable/user_guide/indexing.html#returning-a-view-versus-a-copy\n",
            "  This is separate from the ipykernel package so we can avoid doing imports until\n",
            "/usr/local/lib/python3.7/dist-packages/ipykernel_launcher.py:4: SettingWithCopyWarning: \n",
            "A value is trying to be set on a copy of a slice from a DataFrame.\n",
            "Try using .loc[row_indexer,col_indexer] = value instead\n",
            "\n",
            "See the caveats in the documentation: https://pandas.pydata.org/pandas-docs/stable/user_guide/indexing.html#returning-a-view-versus-a-copy\n",
            "  after removing the cwd from sys.path.\n"
          ]
        }
      ]
    },
    {
      "cell_type": "code",
      "source": [
        "fig = plt.figure(figsize=(10,10))\n",
        "\n",
        "sns.scatterplot(x='ax_1',y='ax_2',hue='cluster',palette=\"deep\",data=test)"
      ],
      "metadata": {
        "colab": {
          "base_uri": "https://localhost:8080/",
          "height": 623
        },
        "id": "L8_cYc1hrYPD",
        "outputId": "70f7e738-be75-49d2-d89c-6f43d59b46c1"
      },
      "execution_count": null,
      "outputs": [
        {
          "output_type": "execute_result",
          "data": {
            "text/plain": [
              "<matplotlib.axes._subplots.AxesSubplot at 0x7fcf52a3b250>"
            ]
          },
          "metadata": {},
          "execution_count": 59
        },
        {
          "output_type": "display_data",
          "data": {
            "image/png": "[encoded data removed]",
            "text/plain": [
              "<Figure size 720x720 with 1 Axes>"
            ]
          },
          "metadata": {
            "needs_background": "light"
          }
        }
      ]
    },
    {
      "cell_type": "markdown",
      "metadata": {
        "id": "OAPjsgAUnwd-"
      },
      "source": [
        "---\n",
        "## Supervised Learning : \n",
        "The supervised learning part must predict a rating given a review\n",
        "\n",
        "---"
      ]
    },
    {
      "cell_type": "markdown",
      "source": [
        "### Another PCA to have 10 features instead of 100"
      ],
      "metadata": {
        "id": "89F_WQYs1vE9"
      }
    },
    {
      "cell_type": "code",
      "execution_count": null,
      "metadata": {
        "id": "_8Ze7O32nwd_"
      },
      "outputs": [],
      "source": [
        "df['cluster']=test['cluster'] # On ajoute la colonne cluster que l'on a crée à l'étape précédente"
      ]
    },
    {
      "cell_type": "code",
      "execution_count": null,
      "metadata": {
        "id": "sZ21yqjLnwd_"
      },
      "outputs": [],
      "source": [
        "#Colonne que l'on veut garder pour l'apprentissage supervisé\n",
        "cols_to_keep_train=['produit_cat','assureur_cat','cluster']"
      ]
    },
    {
      "cell_type": "code",
      "source": [
        "X=df[cols_to_keep_train]\n",
        "y=df['note']"
      ],
      "metadata": {
        "id": "AtYYKoh9RN08"
      },
      "execution_count": null,
      "outputs": []
    },
    {
      "cell_type": "code",
      "source": [
        "pca = PCA(5)\n",
        "res = pca.fit_transform(vectorized_docs)"
      ],
      "metadata": {
        "id": "gp52HpiI0kCx"
      },
      "execution_count": null,
      "outputs": []
    },
    {
      "cell_type": "code",
      "source": [
        "print(pca.explained_variance_ratio_)\n",
        "# Le premier axe contient la majorité de l'information"
      ],
      "metadata": {
        "colab": {
          "base_uri": "https://localhost:8080/"
        },
        "id": "DK8sT8C1629v",
        "outputId": "01ccea86-3516-4c88-8c9e-890ae7f2a5b6"
      },
      "execution_count": null,
      "outputs": [
        {
          "output_type": "stream",
          "name": "stdout",
          "text": [
            "[0.45981998 0.12311342 0.05626144 0.05495231 0.04122773]\n"
          ]
        }
      ]
    },
    {
      "cell_type": "code",
      "source": [
        "for i in range(5):\n",
        "  X['ax'+str(i)]=[el[i] for el in res]"
      ],
      "metadata": {
        "colab": {
          "base_uri": "https://localhost:8080/"
        },
        "id": "N9UkTE0c13ys",
        "outputId": "5ef5a43c-2086-4d91-e0d0-c400c053b13e"
      },
      "execution_count": null,
      "outputs": [
        {
          "output_type": "stream",
          "name": "stderr",
          "text": [
            "/usr/local/lib/python3.7/dist-packages/ipykernel_launcher.py:2: SettingWithCopyWarning: \n",
            "A value is trying to be set on a copy of a slice from a DataFrame.\n",
            "Try using .loc[row_indexer,col_indexer] = value instead\n",
            "\n",
            "See the caveats in the documentation: https://pandas.pydata.org/pandas-docs/stable/user_guide/indexing.html#returning-a-view-versus-a-copy\n",
            "  \n"
          ]
        }
      ]
    },
    {
      "cell_type": "code",
      "source": [
        "X.head()"
      ],
      "metadata": {
        "colab": {
          "base_uri": "https://localhost:8080/",
          "height": 206
        },
        "id": "-TiQpyll6NeZ",
        "outputId": "06b84e0d-e9a0-40b1-9726-fd21bbef266a"
      },
      "execution_count": null,
      "outputs": [
        {
          "output_type": "execute_result",
          "data": {
            "text/html": [
              "\n",
              "  <div id=\"df-8bad527d-821d-49cd-b7b4-3c27fea10b0a\">\n",
              "    <div class=\"colab-df-container\">\n",
              "      <div>\n",
              "<style scoped>\n",
              "    .dataframe tbody tr th:only-of-type {\n",
              "        vertical-align: middle;\n",
              "    }\n",
              "\n",
              "    .dataframe tbody tr th {\n",
              "        vertical-align: top;\n",
              "    }\n",
              "\n",
              "    .dataframe thead th {\n",
              "        text-align: right;\n",
              "    }\n",
              "</style>\n",
              "<table border=\"1\" class=\"dataframe\">\n",
              "  <thead>\n",
              "    <tr style=\"text-align: right;\">\n",
              "      <th></th>\n",
              "      <th>produit_cat</th>\n",
              "      <th>assureur_cat</th>\n",
              "      <th>cluster</th>\n",
              "      <th>ax0</th>\n",
              "      <th>ax1</th>\n",
              "      <th>ax2</th>\n",
              "      <th>ax3</th>\n",
              "      <th>ax4</th>\n",
              "    </tr>\n",
              "  </thead>\n",
              "  <tbody>\n",
              "    <tr>\n",
              "      <th>0</th>\n",
              "      <td>2</td>\n",
              "      <td>17</td>\n",
              "      <td>0</td>\n",
              "      <td>3.707660</td>\n",
              "      <td>-1.103283</td>\n",
              "      <td>0.381638</td>\n",
              "      <td>0.549722</td>\n",
              "      <td>-0.282426</td>\n",
              "    </tr>\n",
              "    <tr>\n",
              "      <th>1</th>\n",
              "      <td>2</td>\n",
              "      <td>17</td>\n",
              "      <td>0</td>\n",
              "      <td>0.967788</td>\n",
              "      <td>1.226112</td>\n",
              "      <td>0.584585</td>\n",
              "      <td>-0.506034</td>\n",
              "      <td>0.403858</td>\n",
              "    </tr>\n",
              "    <tr>\n",
              "      <th>2</th>\n",
              "      <td>2</td>\n",
              "      <td>17</td>\n",
              "      <td>1</td>\n",
              "      <td>0.017288</td>\n",
              "      <td>-0.809074</td>\n",
              "      <td>-0.688618</td>\n",
              "      <td>0.008836</td>\n",
              "      <td>0.095259</td>\n",
              "    </tr>\n",
              "    <tr>\n",
              "      <th>3</th>\n",
              "      <td>2</td>\n",
              "      <td>29</td>\n",
              "      <td>0</td>\n",
              "      <td>3.015088</td>\n",
              "      <td>-0.315450</td>\n",
              "      <td>1.036338</td>\n",
              "      <td>-0.004691</td>\n",
              "      <td>0.130299</td>\n",
              "    </tr>\n",
              "    <tr>\n",
              "      <th>4</th>\n",
              "      <td>2</td>\n",
              "      <td>39</td>\n",
              "      <td>1</td>\n",
              "      <td>-1.271385</td>\n",
              "      <td>-0.568267</td>\n",
              "      <td>-0.135590</td>\n",
              "      <td>0.253059</td>\n",
              "      <td>-0.267549</td>\n",
              "    </tr>\n",
              "  </tbody>\n",
              "</table>\n",
              "</div>\n",
              "      <button class=\"colab-df-convert\" onclick=\"convertToInteractive('df-8bad527d-821d-49cd-b7b4-3c27fea10b0a')\"\n",
              "              title=\"Convert this dataframe to an interactive table.\"\n",
              "              style=\"display:none;\">\n",
              "        \n",
              "  <svg xmlns=\"http://www.w3.org/2000/svg\" height=\"24px\"viewBox=\"0 0 24 24\"\n",
              "       width=\"24px\">\n",
              "    <path d=\"M0 0h24v24H0V0z\" fill=\"none\"/>\n",
              "    <path d=\"M18.56 5.44l.94 2.06.94-2.06 2.06-.94-2.06-.94-.94-2.06-.94 2.06-2.06.94zm-11 1L8.5 8.5l.94-2.06 2.06-.94-2.06-.94L8.5 2.5l-.94 2.06-2.06.94zm10 10l.94 2.06.94-2.06 2.06-.94-2.06-.94-.94-2.06-.94 2.06-2.06.94z\"/><path d=\"M17.41 7.96l-1.37-1.37c-.4-.4-.92-.59-1.43-.59-.52 0-1.04.2-1.43.59L10.3 9.45l-7.72 7.72c-.78.78-.78 2.05 0 2.83L4 21.41c.39.39.9.59 1.41.59.51 0 1.02-.2 1.41-.59l7.78-7.78 2.81-2.81c.8-.78.8-2.07 0-2.86zM5.41 20L4 18.59l7.72-7.72 1.47 1.35L5.41 20z\"/>\n",
              "  </svg>\n",
              "      </button>\n",
              "      \n",
              "  <style>\n",
              "    .colab-df-container {\n",
              "      display:flex;\n",
              "      flex-wrap:wrap;\n",
              "      gap: 12px;\n",
              "    }\n",
              "\n",
              "    .colab-df-convert {\n",
              "      background-color: #E8F0FE;\n",
              "      border: none;\n",
              "      border-radius: 50%;\n",
              "      cursor: pointer;\n",
              "      display: none;\n",
              "      fill: #1967D2;\n",
              "      height: 32px;\n",
              "      padding: 0 0 0 0;\n",
              "      width: 32px;\n",
              "    }\n",
              "\n",
              "    .colab-df-convert:hover {\n",
              "      background-color: #E2EBFA;\n",
              "      box-shadow: 0px 1px 2px rgba(60, 64, 67, 0.3), 0px 1px 3px 1px rgba(60, 64, 67, 0.15);\n",
              "      fill: #174EA6;\n",
              "    }\n",
              "\n",
              "    [theme=dark] .colab-df-convert {\n",
              "      background-color: #3B4455;\n",
              "      fill: #D2E3FC;\n",
              "    }\n",
              "\n",
              "    [theme=dark] .colab-df-convert:hover {\n",
              "      background-color: #434B5C;\n",
              "      box-shadow: 0px 1px 3px 1px rgba(0, 0, 0, 0.15);\n",
              "      filter: drop-shadow(0px 1px 2px rgba(0, 0, 0, 0.3));\n",
              "      fill: #FFFFFF;\n",
              "    }\n",
              "  </style>\n",
              "\n",
              "      <script>\n",
              "        const buttonEl =\n",
              "          document.querySelector('#df-8bad527d-821d-49cd-b7b4-3c27fea10b0a button.colab-df-convert');\n",
              "        buttonEl.style.display =\n",
              "          google.colab.kernel.accessAllowed ? 'block' : 'none';\n",
              "\n",
              "        async function convertToInteractive(key) {\n",
              "          const element = document.querySelector('#df-8bad527d-821d-49cd-b7b4-3c27fea10b0a');\n",
              "          const dataTable =\n",
              "            await google.colab.kernel.invokeFunction('convertToInteractive',\n",
              "                                                     [key], {});\n",
              "          if (!dataTable) return;\n",
              "\n",
              "          const docLinkHtml = 'Like what you see? Visit the ' +\n",
              "            '<a target=\"_blank\" href=https://colab.research.google.com/notebooks/data_table.ipynb>data table notebook</a>'\n",
              "            + ' to learn more about interactive tables.';\n",
              "          element.innerHTML = '';\n",
              "          dataTable['output_type'] = 'display_data';\n",
              "          await google.colab.output.renderOutput(dataTable, element);\n",
              "          const docLink = document.createElement('div');\n",
              "          docLink.innerHTML = docLinkHtml;\n",
              "          element.appendChild(docLink);\n",
              "        }\n",
              "      </script>\n",
              "    </div>\n",
              "  </div>\n",
              "  "
            ],
            "text/plain": [
              "   produit_cat  assureur_cat  cluster  ...       ax2       ax3       ax4\n",
              "0            2            17        0  ...  0.381638  0.549722 -0.282426\n",
              "1            2            17        0  ...  0.584585 -0.506034  0.403858\n",
              "2            2            17        1  ... -0.688618  0.008836  0.095259\n",
              "3            2            29        0  ...  1.036338 -0.004691  0.130299\n",
              "4            2            39        1  ... -0.135590  0.253059 -0.267549\n",
              "\n",
              "[5 rows x 8 columns]"
            ]
          },
          "metadata": {},
          "execution_count": 66
        }
      ]
    },
    {
      "cell_type": "markdown",
      "source": [
        "### X and Y sets "
      ],
      "metadata": {
        "id": "FNY95I716DCR"
      }
    },
    {
      "cell_type": "code",
      "source": [
        "X_train,X_test,y_train,y_test=train_test_split(X,y,test_size=0.27)"
      ],
      "metadata": {
        "id": "XmZo2iCdu0Bx"
      },
      "execution_count": null,
      "outputs": []
    },
    {
      "cell_type": "markdown",
      "source": [
        "### Linear regression"
      ],
      "metadata": {
        "id": "HKCANBy5-3wm"
      }
    },
    {
      "cell_type": "code",
      "source": [
        "regr = linear_model.LinearRegression()\n",
        "fitregr=regr.fit(X_train, y_train)\n",
        "predregrtrain=fitregr.predict(X_train)\n",
        "predregrtest=fitregr.predict(X_test)"
      ],
      "metadata": {
        "id": "XOAaqpjJvUKQ"
      },
      "execution_count": null,
      "outputs": []
    },
    {
      "cell_type": "code",
      "source": [
        "print('The equation of this Linear Regression has format : y= coefficient*Features + intercept')\n",
        "print('Linear model intercept: {} and the coefficients are: {}'\n",
        "     .format(fitregr.intercept_,fitregr.coef_))"
      ],
      "metadata": {
        "colab": {
          "base_uri": "https://localhost:8080/"
        },
        "id": "ENyrVxEOtebW",
        "outputId": "69a33433-7b39-4a22-9c45-7e6adc91fedb"
      },
      "execution_count": null,
      "outputs": [
        {
          "output_type": "stream",
          "name": "stdout",
          "text": [
            "The equation of this Linear Regression has format : y= coefficient*Features + intercept\n",
            "Linear model intercept: 3.301726756347395 and the coefficients are: [-0.01114955  0.00260987 -0.76049645  0.47716514 -0.04040479 -0.06100614\n",
            " -0.04076324  0.33709964]\n"
          ]
        }
      ]
    },
    {
      "cell_type": "code",
      "source": [
        "train_set_rmse = (np.sqrt(mean_squared_error(predregrtrain,y_train )))\n",
        "train_set_r2 = r2_score(y_train, predregrtrain)\n",
        "print('Linear model, R2 train score is : {} and the train root mean square is: {}'\n",
        "     .format(train_set_r2,train_set_rmse))\n",
        "\n",
        "test_set_rmse = (np.sqrt(mean_squared_error(predregrtest,y_test )))\n",
        "test_set_r2 = r2_score(y_test, predregrtest)\n",
        "print('Linear model, R2 test score is : {} and the test root mean square is: {}'\n",
        "     .format(test_set_r2,test_set_rmse))"
      ],
      "metadata": {
        "colab": {
          "base_uri": "https://localhost:8080/"
        },
        "id": "bNd1dzTPAa1Z",
        "outputId": "951b29b7-aa3f-4096-8e74-50e28d05c0b3"
      },
      "execution_count": null,
      "outputs": [
        {
          "output_type": "stream",
          "name": "stdout",
          "text": [
            "Linear model, R2 train score is : 0.5452708031951696 and the train root mean square is: 1.0335223330658003\n",
            "Linear model, R2 test score is : 0.5230576168799779 and the test root mean square is: 1.0550953610178093\n"
          ]
        }
      ]
    },
    {
      "cell_type": "markdown",
      "source": [
        "### Random Forest Regressor"
      ],
      "metadata": {
        "id": "YPoPfM7pBSMH"
      }
    },
    {
      "cell_type": "code",
      "source": [
        "randomForestAlgo = RandomForestRegressor()\n",
        "\n",
        "\n",
        "param = {'n_estimators' : [int(x) for x in np.linspace(start=80,stop=100, num=10)], \n",
        "         'max_depth' : [90,100],\n",
        "        }\n",
        "\n",
        "gridSearch_RandomForest=GridSearchCV(randomForestAlgo,param,scoring='r2',cv=5)\n",
        "gridSearch_RandomForest.fit(X_train,y_train)\n",
        "\n",
        "best_randomForest=gridSearch_RandomForest.best_estimator_\n",
        "bestRandomForest_testScore=best_randomForest.score(X_test,y_test)"
      ],
      "metadata": {
        "id": "bVz28Y8DAa4B"
      },
      "execution_count": null,
      "outputs": []
    },
    {
      "cell_type": "code",
      "source": [
        "best_randomForest.get_params()"
      ],
      "metadata": {
        "colab": {
          "base_uri": "https://localhost:8080/"
        },
        "id": "6TEoZNaEAa6m",
        "outputId": "46b771cf-d01c-4b35-a16c-78e4920ab19e"
      },
      "execution_count": null,
      "outputs": [
        {
          "output_type": "execute_result",
          "data": {
            "text/plain": [
              "{'bootstrap': True,\n",
              " 'ccp_alpha': 0.0,\n",
              " 'criterion': 'squared_error',\n",
              " 'max_depth': 90,\n",
              " 'max_features': 'auto',\n",
              " 'max_leaf_nodes': None,\n",
              " 'max_samples': None,\n",
              " 'min_impurity_decrease': 0.0,\n",
              " 'min_samples_leaf': 1,\n",
              " 'min_samples_split': 2,\n",
              " 'min_weight_fraction_leaf': 0.0,\n",
              " 'n_estimators': 88,\n",
              " 'n_jobs': None,\n",
              " 'oob_score': False,\n",
              " 'random_state': None,\n",
              " 'verbose': 0,\n",
              " 'warm_start': False}"
            ]
          },
          "metadata": {},
          "execution_count": 72
        }
      ]
    },
    {
      "cell_type": "markdown",
      "source": [
        "Sur le test set crée pendant le spliting"
      ],
      "metadata": {
        "id": "S7hTuD6FU_wG"
      }
    },
    {
      "cell_type": "code",
      "source": [
        "print('The best Random Forest R2 train score is : {:.2f} with n estimators = {:.2f}  \\n \\\n",
        "'.format(gridSearch_RandomForest.best_score_,gridSearch_RandomForest.best_params_['n_estimators']))\n",
        "print('The best Random Forest R2 test score is : {:.2f} with n estimators = {:.2f} \\n \\\n",
        "'.format(bestRandomForest_testScore,gridSearch_RandomForest.best_params_['n_estimators']))"
      ],
      "metadata": {
        "colab": {
          "base_uri": "https://localhost:8080/"
        },
        "id": "pKbJFbtFNxcT",
        "outputId": "cb098ea9-e442-412c-db2c-d515b34abcfd"
      },
      "execution_count": null,
      "outputs": [
        {
          "output_type": "stream",
          "name": "stdout",
          "text": [
            "The best Random Forest R2 train score is : 0.61 with n estimators = 88.00  \n",
            " \n",
            "The best Random Forest R2 test score is : 0.59 with n estimators = 88.00 \n",
            " \n"
          ]
        }
      ]
    },
    {
      "cell_type": "code",
      "source": [
        "from sklearn import metrics\n",
        "print('Mean Squared Error:', metrics.mean_squared_error(y_test, predregrtest))\n",
        "print('Mean of the column:', np.mean(y_test))  "
      ],
      "metadata": {
        "colab": {
          "base_uri": "https://localhost:8080/"
        },
        "id": "hu0h2VKPR7hs",
        "outputId": "9fea3c2c-8d9a-4e5b-d79f-c565e70132c8"
      },
      "execution_count": null,
      "outputs": [
        {
          "output_type": "stream",
          "name": "stdout",
          "text": [
            "Mean Squared Error: 1.1132262208413013\n",
            "Mean of the column: 2.8449838684897832\n"
          ]
        }
      ]
    },
    {
      "cell_type": "code",
      "source": [
        "vals=best_randomForest.feature_importances_"
      ],
      "metadata": {
        "id": "mlqfPdIsAa85"
      },
      "execution_count": null,
      "outputs": []
    },
    {
      "cell_type": "code",
      "source": [
        "pd.DataFrame(vals,index=X.columns).plot(kind='bar',legend=False,color='Black')"
      ],
      "metadata": {
        "colab": {
          "base_uri": "https://localhost:8080/",
          "height": 336
        },
        "id": "zRjPy9U-Aa_J",
        "outputId": "92e6cef4-a6fa-4497-e03a-f1985594d411"
      },
      "execution_count": null,
      "outputs": [
        {
          "output_type": "execute_result",
          "data": {
            "text/plain": [
              "<matplotlib.axes._subplots.AxesSubplot at 0x7fcf530d34d0>"
            ]
          },
          "metadata": {},
          "execution_count": 76
        },
        {
          "output_type": "display_data",
          "data": {
            "image/png": "[encoded data removed]",
            "text/plain": [
              "<Figure size 432x288 with 1 Axes>"
            ]
          },
          "metadata": {
            "needs_background": "light"
          }
        }
      ]
    },
    {
      "cell_type": "markdown",
      "source": [
        "# Test set\n",
        "## Loading the test set"
      ],
      "metadata": {
        "id": "J3wWT0YEVI6c"
      }
    },
    {
      "cell_type": "code",
      "source": [
        "test_set=pd.read_csv('https://raw.githubusercontent.com/thomastrg/NLP_insurance_project/main/avisassurance_test.csv',sep=';')"
      ],
      "metadata": {
        "id": "-fkJBYHoVJHL"
      },
      "execution_count": null,
      "outputs": []
    },
    {
      "cell_type": "code",
      "source": [
        "test_set.head()"
      ],
      "metadata": {
        "colab": {
          "base_uri": "https://localhost:8080/",
          "height": 206
        },
        "id": "UPUajC_PVX3t",
        "outputId": "5be1c07c-00d2-4dca-e1ed-f3fa615fbbf7"
      },
      "execution_count": null,
      "outputs": [
        {
          "output_type": "execute_result",
          "data": {
            "text/html": [
              "\n",
              "  <div id=\"df-972d7dbf-0351-4a65-b27b-0d5db9de7608\">\n",
              "    <div class=\"colab-df-container\">\n",
              "      <div>\n",
              "<style scoped>\n",
              "    .dataframe tbody tr th:only-of-type {\n",
              "        vertical-align: middle;\n",
              "    }\n",
              "\n",
              "    .dataframe tbody tr th {\n",
              "        vertical-align: top;\n",
              "    }\n",
              "\n",
              "    .dataframe thead th {\n",
              "        text-align: right;\n",
              "    }\n",
              "</style>\n",
              "<table border=\"1\" class=\"dataframe\">\n",
              "  <thead>\n",
              "    <tr style=\"text-align: right;\">\n",
              "      <th></th>\n",
              "      <th>date</th>\n",
              "      <th>auteur</th>\n",
              "      <th>avis</th>\n",
              "      <th>assureur</th>\n",
              "      <th>produit</th>\n",
              "      <th>produit_cat</th>\n",
              "      <th>assureur_cat</th>\n",
              "    </tr>\n",
              "  </thead>\n",
              "  <tbody>\n",
              "    <tr>\n",
              "      <th>0</th>\n",
              "      <td>16 novemb...</td>\n",
              "      <td>lognos-d-139728</td>\n",
              "      <td>Satisfait des tarif et rapide j'attends de voi...</td>\n",
              "      <td>L'olivier Assurance</td>\n",
              "      <td>auto</td>\n",
              "      <td>2</td>\n",
              "      <td>29</td>\n",
              "    </tr>\n",
              "    <tr>\n",
              "      <th>1</th>\n",
              "      <td>16 novemb...</td>\n",
              "      <td>paugam-l-139727</td>\n",
              "      <td>Bon service, service réactif. Tout en ligne pr...</td>\n",
              "      <td>L'olivier Assurance</td>\n",
              "      <td>auto</td>\n",
              "      <td>2</td>\n",
              "      <td>29</td>\n",
              "    </tr>\n",
              "    <tr>\n",
              "      <th>2</th>\n",
              "      <td>16 novemb...</td>\n",
              "      <td>rozgonyi-o-139704</td>\n",
              "      <td>L’assurance Olivier est une très bonne assuran...</td>\n",
              "      <td>L'olivier Assurance</td>\n",
              "      <td>auto</td>\n",
              "      <td>2</td>\n",
              "      <td>29</td>\n",
              "    </tr>\n",
              "    <tr>\n",
              "      <th>3</th>\n",
              "      <td>16 novemb...</td>\n",
              "      <td>saad-hellal-h-139697</td>\n",
              "      <td>Je suis satisfait de l'olivier assurances pas ...</td>\n",
              "      <td>L'olivier Assurance</td>\n",
              "      <td>auto</td>\n",
              "      <td>2</td>\n",
              "      <td>29</td>\n",
              "    </tr>\n",
              "    <tr>\n",
              "      <th>4</th>\n",
              "      <td>15 novemb...</td>\n",
              "      <td>damis-s-139693</td>\n",
              "      <td>le prix est attractif par rapport à ma situati...</td>\n",
              "      <td>L'olivier Assurance</td>\n",
              "      <td>auto</td>\n",
              "      <td>2</td>\n",
              "      <td>29</td>\n",
              "    </tr>\n",
              "  </tbody>\n",
              "</table>\n",
              "</div>\n",
              "      <button class=\"colab-df-convert\" onclick=\"convertToInteractive('df-972d7dbf-0351-4a65-b27b-0d5db9de7608')\"\n",
              "              title=\"Convert this dataframe to an interactive table.\"\n",
              "              style=\"display:none;\">\n",
              "        \n",
              "  <svg xmlns=\"http://www.w3.org/2000/svg\" height=\"24px\"viewBox=\"0 0 24 24\"\n",
              "       width=\"24px\">\n",
              "    <path d=\"M0 0h24v24H0V0z\" fill=\"none\"/>\n",
              "    <path d=\"M18.56 5.44l.94 2.06.94-2.06 2.06-.94-2.06-.94-.94-2.06-.94 2.06-2.06.94zm-11 1L8.5 8.5l.94-2.06 2.06-.94-2.06-.94L8.5 2.5l-.94 2.06-2.06.94zm10 10l.94 2.06.94-2.06 2.06-.94-2.06-.94-.94-2.06-.94 2.06-2.06.94z\"/><path d=\"M17.41 7.96l-1.37-1.37c-.4-.4-.92-.59-1.43-.59-.52 0-1.04.2-1.43.59L10.3 9.45l-7.72 7.72c-.78.78-.78 2.05 0 2.83L4 21.41c.39.39.9.59 1.41.59.51 0 1.02-.2 1.41-.59l7.78-7.78 2.81-2.81c.8-.78.8-2.07 0-2.86zM5.41 20L4 18.59l7.72-7.72 1.47 1.35L5.41 20z\"/>\n",
              "  </svg>\n",
              "      </button>\n",
              "      \n",
              "  <style>\n",
              "    .colab-df-container {\n",
              "      display:flex;\n",
              "      flex-wrap:wrap;\n",
              "      gap: 12px;\n",
              "    }\n",
              "\n",
              "    .colab-df-convert {\n",
              "      background-color: #E8F0FE;\n",
              "      border: none;\n",
              "      border-radius: 50%;\n",
              "      cursor: pointer;\n",
              "      display: none;\n",
              "      fill: #1967D2;\n",
              "      height: 32px;\n",
              "      padding: 0 0 0 0;\n",
              "      width: 32px;\n",
              "    }\n",
              "\n",
              "    .colab-df-convert:hover {\n",
              "      background-color: #E2EBFA;\n",
              "      box-shadow: 0px 1px 2px rgba(60, 64, 67, 0.3), 0px 1px 3px 1px rgba(60, 64, 67, 0.15);\n",
              "      fill: #174EA6;\n",
              "    }\n",
              "\n",
              "    [theme=dark] .colab-df-convert {\n",
              "      background-color: #3B4455;\n",
              "      fill: #D2E3FC;\n",
              "    }\n",
              "\n",
              "    [theme=dark] .colab-df-convert:hover {\n",
              "      background-color: #434B5C;\n",
              "      box-shadow: 0px 1px 3px 1px rgba(0, 0, 0, 0.15);\n",
              "      filter: drop-shadow(0px 1px 2px rgba(0, 0, 0, 0.3));\n",
              "      fill: #FFFFFF;\n",
              "    }\n",
              "  </style>\n",
              "\n",
              "      <script>\n",
              "        const buttonEl =\n",
              "          document.querySelector('#df-972d7dbf-0351-4a65-b27b-0d5db9de7608 button.colab-df-convert');\n",
              "        buttonEl.style.display =\n",
              "          google.colab.kernel.accessAllowed ? 'block' : 'none';\n",
              "\n",
              "        async function convertToInteractive(key) {\n",
              "          const element = document.querySelector('#df-972d7dbf-0351-4a65-b27b-0d5db9de7608');\n",
              "          const dataTable =\n",
              "            await google.colab.kernel.invokeFunction('convertToInteractive',\n",
              "                                                     [key], {});\n",
              "          if (!dataTable) return;\n",
              "\n",
              "          const docLinkHtml = 'Like what you see? Visit the ' +\n",
              "            '<a target=\"_blank\" href=https://colab.research.google.com/notebooks/data_table.ipynb>data table notebook</a>'\n",
              "            + ' to learn more about interactive tables.';\n",
              "          element.innerHTML = '';\n",
              "          dataTable['output_type'] = 'display_data';\n",
              "          await google.colab.output.renderOutput(dataTable, element);\n",
              "          const docLink = document.createElement('div');\n",
              "          docLink.innerHTML = docLinkHtml;\n",
              "          element.appendChild(docLink);\n",
              "        }\n",
              "      </script>\n",
              "    </div>\n",
              "  </div>\n",
              "  "
            ],
            "text/plain": [
              "                                                date  ... assureur_cat\n",
              "0                                       16 novemb...  ...           29\n",
              "1                                       16 novemb...  ...           29\n",
              "2                                       16 novemb...  ...           29\n",
              "3                                       16 novemb...  ...           29\n",
              "4                                       15 novemb...  ...           29\n",
              "\n",
              "[5 rows x 7 columns]"
            ]
          },
          "metadata": {},
          "execution_count": 110
        }
      ]
    },
    {
      "cell_type": "markdown",
      "source": [
        "## Nous devons process le test set pour pouvoir faire fonctionner le modèle\n",
        "Column Avis"
      ],
      "metadata": {
        "id": "J85JobGiVoQs"
      }
    },
    {
      "cell_type": "code",
      "source": [
        "tokenised_cat = test_set['avis'].apply(tokenize)"
      ],
      "metadata": {
        "id": "0BfqGUKHVJJx"
      },
      "execution_count": null,
      "outputs": []
    },
    {
      "cell_type": "code",
      "source": [
        "def handle_None():\n",
        "  for i in range(len(tokenised_cat)):\n",
        "    if tokenised_cat[i]==None:\n",
        "      tokenised_cat[i]=\"\"\n",
        "handle_None()"
      ],
      "metadata": {
        "id": "ZHl4ZRG8YUMH"
      },
      "execution_count": null,
      "outputs": []
    },
    {
      "cell_type": "code",
      "source": [
        "avis_tokenized=[[x.lower() for x in el] for el in tokenised_cat] \n",
        "avis_without_specials = [[x for x in el if re.match('[a-z]+',str(x))] for el in avis_tokenized]\n",
        "avis_without_specials = [[x for x in el if re.sub('[^a-z]+',\" \",str(x))] for el in avis_without_specials]\n",
        "all_stopwords=stopwords.words('french')\n",
        "avis_without_stopwords=[[x for x in el if x not in all_stopwords] for el in avis_without_specials]\n",
        "lemmatizer = WordNetLemmatizer()\n",
        "avis_lemmetized = [[lemmatizer.lemmatize(str(word)) for word in el] for el in avis_without_stopwords]"
      ],
      "metadata": {
        "id": "U8ypXtl7VJMF"
      },
      "execution_count": null,
      "outputs": []
    },
    {
      "cell_type": "markdown",
      "source": [
        "Column produit"
      ],
      "metadata": {
        "id": "mDjA0D33YaA4"
      }
    },
    {
      "cell_type": "code",
      "source": [
        "test_set['produit_cat']=test_set['produit'].astype('category').cat.codes.astype('int64')"
      ],
      "metadata": {
        "id": "7tYTE8G7VJOb"
      },
      "execution_count": null,
      "outputs": []
    },
    {
      "cell_type": "markdown",
      "source": [
        "Column Assureur"
      ],
      "metadata": {
        "id": "fy4uzkKzYgnu"
      }
    },
    {
      "cell_type": "code",
      "source": [
        "test_set['assureur_cat']=test_set['assureur'].astype('category').cat.codes.astype('int64')"
      ],
      "metadata": {
        "id": "88BepAsXVIQa"
      },
      "execution_count": null,
      "outputs": []
    },
    {
      "cell_type": "code",
      "source": [
        "test_vectorized_docs = vectorize(avis_lemmetized, model=mymodel)\n",
        "len(test_vectorized_docs), len(test_vectorized_docs[0])"
      ],
      "metadata": {
        "colab": {
          "base_uri": "https://localhost:8080/"
        },
        "id": "l48GX2CVYmBx",
        "outputId": "5c0cc39b-8d09-4e53-f99f-d2e6077cb9f0"
      },
      "execution_count": null,
      "outputs": [
        {
          "output_type": "execute_result",
          "data": {
            "text/plain": [
              "(10332, 100)"
            ]
          },
          "metadata": {},
          "execution_count": 89
        }
      ]
    },
    {
      "cell_type": "markdown",
      "source": [
        "## KMeans pour avoir la colonne \"cluster\""
      ],
      "metadata": {
        "id": "L36TN_txZO-x"
      }
    },
    {
      "cell_type": "code",
      "source": [
        "new_kmeans = KMeans(n_clusters=2).fit(test_vectorized_docs)"
      ],
      "metadata": {
        "id": "xQzSZjMSY_yt"
      },
      "execution_count": null,
      "outputs": []
    },
    {
      "cell_type": "code",
      "source": [
        "test_bis=test_set[['avis']]\n",
        "test_bis['cluster'] = new_kmeans.labels_"
      ],
      "metadata": {
        "colab": {
          "base_uri": "https://localhost:8080/"
        },
        "id": "ZbXaWOOsZbw_",
        "outputId": "c5d2e910-26d5-4491-9f7c-c6de8cb5ab13"
      },
      "execution_count": null,
      "outputs": [
        {
          "output_type": "stream",
          "name": "stderr",
          "text": [
            "/usr/local/lib/python3.7/dist-packages/ipykernel_launcher.py:2: SettingWithCopyWarning: \n",
            "A value is trying to be set on a copy of a slice from a DataFrame.\n",
            "Try using .loc[row_indexer,col_indexer] = value instead\n",
            "\n",
            "See the caveats in the documentation: https://pandas.pydata.org/pandas-docs/stable/user_guide/indexing.html#returning-a-view-versus-a-copy\n",
            "  \n"
          ]
        }
      ]
    },
    {
      "cell_type": "code",
      "source": [
        "test_bis['polarité_KMeans']=['Positif' if x ==0 else 'Négatif' for x in test_bis['cluster']] #0 positif et 1 négatif affirmatif"
      ],
      "metadata": {
        "colab": {
          "base_uri": "https://localhost:8080/"
        },
        "id": "70vZ5Rg3ZntK",
        "outputId": "712f42a5-a4df-4b1c-d2c4-cab374fc24fa"
      },
      "execution_count": null,
      "outputs": [
        {
          "output_type": "stream",
          "name": "stderr",
          "text": [
            "/usr/local/lib/python3.7/dist-packages/ipykernel_launcher.py:1: SettingWithCopyWarning: \n",
            "A value is trying to be set on a copy of a slice from a DataFrame.\n",
            "Try using .loc[row_indexer,col_indexer] = value instead\n",
            "\n",
            "See the caveats in the documentation: https://pandas.pydata.org/pandas-docs/stable/user_guide/indexing.html#returning-a-view-versus-a-copy\n",
            "  \"\"\"Entry point for launching an IPython kernel.\n"
          ]
        }
      ]
    },
    {
      "cell_type": "code",
      "source": [
        "test_set.head()"
      ],
      "metadata": {
        "colab": {
          "base_uri": "https://localhost:8080/",
          "height": 206
        },
        "id": "NZFkOZqFZb8I",
        "outputId": "46e7d57b-3ac5-48da-db77-83dad6e2a2a5"
      },
      "execution_count": null,
      "outputs": [
        {
          "output_type": "execute_result",
          "data": {
            "text/html": [
              "\n",
              "  <div id=\"df-c0a8e26d-c3eb-4544-ac8c-c1e276df6a7b\">\n",
              "    <div class=\"colab-df-container\">\n",
              "      <div>\n",
              "<style scoped>\n",
              "    .dataframe tbody tr th:only-of-type {\n",
              "        vertical-align: middle;\n",
              "    }\n",
              "\n",
              "    .dataframe tbody tr th {\n",
              "        vertical-align: top;\n",
              "    }\n",
              "\n",
              "    .dataframe thead th {\n",
              "        text-align: right;\n",
              "    }\n",
              "</style>\n",
              "<table border=\"1\" class=\"dataframe\">\n",
              "  <thead>\n",
              "    <tr style=\"text-align: right;\">\n",
              "      <th></th>\n",
              "      <th>date</th>\n",
              "      <th>auteur</th>\n",
              "      <th>avis</th>\n",
              "      <th>assureur</th>\n",
              "      <th>produit</th>\n",
              "      <th>produit_cat</th>\n",
              "      <th>assureur_cat</th>\n",
              "      <th>cluster</th>\n",
              "    </tr>\n",
              "  </thead>\n",
              "  <tbody>\n",
              "    <tr>\n",
              "      <th>0</th>\n",
              "      <td>16 novemb...</td>\n",
              "      <td>lognos-d-139728</td>\n",
              "      <td>Satisfait des tarif et rapide j'attends de voi...</td>\n",
              "      <td>L'olivier Assurance</td>\n",
              "      <td>auto</td>\n",
              "      <td>2</td>\n",
              "      <td>29</td>\n",
              "      <td>0</td>\n",
              "    </tr>\n",
              "    <tr>\n",
              "      <th>1</th>\n",
              "      <td>16 novemb...</td>\n",
              "      <td>paugam-l-139727</td>\n",
              "      <td>Bon service, service réactif. Tout en ligne pr...</td>\n",
              "      <td>L'olivier Assurance</td>\n",
              "      <td>auto</td>\n",
              "      <td>2</td>\n",
              "      <td>29</td>\n",
              "      <td>0</td>\n",
              "    </tr>\n",
              "    <tr>\n",
              "      <th>2</th>\n",
              "      <td>16 novemb...</td>\n",
              "      <td>rozgonyi-o-139704</td>\n",
              "      <td>L’assurance Olivier est une très bonne assuran...</td>\n",
              "      <td>L'olivier Assurance</td>\n",
              "      <td>auto</td>\n",
              "      <td>2</td>\n",
              "      <td>29</td>\n",
              "      <td>0</td>\n",
              "    </tr>\n",
              "    <tr>\n",
              "      <th>3</th>\n",
              "      <td>16 novemb...</td>\n",
              "      <td>saad-hellal-h-139697</td>\n",
              "      <td>Je suis satisfait de l'olivier assurances pas ...</td>\n",
              "      <td>L'olivier Assurance</td>\n",
              "      <td>auto</td>\n",
              "      <td>2</td>\n",
              "      <td>29</td>\n",
              "      <td>0</td>\n",
              "    </tr>\n",
              "    <tr>\n",
              "      <th>4</th>\n",
              "      <td>15 novemb...</td>\n",
              "      <td>damis-s-139693</td>\n",
              "      <td>le prix est attractif par rapport à ma situati...</td>\n",
              "      <td>L'olivier Assurance</td>\n",
              "      <td>auto</td>\n",
              "      <td>2</td>\n",
              "      <td>29</td>\n",
              "      <td>0</td>\n",
              "    </tr>\n",
              "  </tbody>\n",
              "</table>\n",
              "</div>\n",
              "      <button class=\"colab-df-convert\" onclick=\"convertToInteractive('df-c0a8e26d-c3eb-4544-ac8c-c1e276df6a7b')\"\n",
              "              title=\"Convert this dataframe to an interactive table.\"\n",
              "              style=\"display:none;\">\n",
              "        \n",
              "  <svg xmlns=\"http://www.w3.org/2000/svg\" height=\"24px\"viewBox=\"0 0 24 24\"\n",
              "       width=\"24px\">\n",
              "    <path d=\"M0 0h24v24H0V0z\" fill=\"none\"/>\n",
              "    <path d=\"M18.56 5.44l.94 2.06.94-2.06 2.06-.94-2.06-.94-.94-2.06-.94 2.06-2.06.94zm-11 1L8.5 8.5l.94-2.06 2.06-.94-2.06-.94L8.5 2.5l-.94 2.06-2.06.94zm10 10l.94 2.06.94-2.06 2.06-.94-2.06-.94-.94-2.06-.94 2.06-2.06.94z\"/><path d=\"M17.41 7.96l-1.37-1.37c-.4-.4-.92-.59-1.43-.59-.52 0-1.04.2-1.43.59L10.3 9.45l-7.72 7.72c-.78.78-.78 2.05 0 2.83L4 21.41c.39.39.9.59 1.41.59.51 0 1.02-.2 1.41-.59l7.78-7.78 2.81-2.81c.8-.78.8-2.07 0-2.86zM5.41 20L4 18.59l7.72-7.72 1.47 1.35L5.41 20z\"/>\n",
              "  </svg>\n",
              "      </button>\n",
              "      \n",
              "  <style>\n",
              "    .colab-df-container {\n",
              "      display:flex;\n",
              "      flex-wrap:wrap;\n",
              "      gap: 12px;\n",
              "    }\n",
              "\n",
              "    .colab-df-convert {\n",
              "      background-color: #E8F0FE;\n",
              "      border: none;\n",
              "      border-radius: 50%;\n",
              "      cursor: pointer;\n",
              "      display: none;\n",
              "      fill: #1967D2;\n",
              "      height: 32px;\n",
              "      padding: 0 0 0 0;\n",
              "      width: 32px;\n",
              "    }\n",
              "\n",
              "    .colab-df-convert:hover {\n",
              "      background-color: #E2EBFA;\n",
              "      box-shadow: 0px 1px 2px rgba(60, 64, 67, 0.3), 0px 1px 3px 1px rgba(60, 64, 67, 0.15);\n",
              "      fill: #174EA6;\n",
              "    }\n",
              "\n",
              "    [theme=dark] .colab-df-convert {\n",
              "      background-color: #3B4455;\n",
              "      fill: #D2E3FC;\n",
              "    }\n",
              "\n",
              "    [theme=dark] .colab-df-convert:hover {\n",
              "      background-color: #434B5C;\n",
              "      box-shadow: 0px 1px 3px 1px rgba(0, 0, 0, 0.15);\n",
              "      filter: drop-shadow(0px 1px 2px rgba(0, 0, 0, 0.3));\n",
              "      fill: #FFFFFF;\n",
              "    }\n",
              "  </style>\n",
              "\n",
              "      <script>\n",
              "        const buttonEl =\n",
              "          document.querySelector('#df-c0a8e26d-c3eb-4544-ac8c-c1e276df6a7b button.colab-df-convert');\n",
              "        buttonEl.style.display =\n",
              "          google.colab.kernel.accessAllowed ? 'block' : 'none';\n",
              "\n",
              "        async function convertToInteractive(key) {\n",
              "          const element = document.querySelector('#df-c0a8e26d-c3eb-4544-ac8c-c1e276df6a7b');\n",
              "          const dataTable =\n",
              "            await google.colab.kernel.invokeFunction('convertToInteractive',\n",
              "                                                     [key], {});\n",
              "          if (!dataTable) return;\n",
              "\n",
              "          const docLinkHtml = 'Like what you see? Visit the ' +\n",
              "            '<a target=\"_blank\" href=https://colab.research.google.com/notebooks/data_table.ipynb>data table notebook</a>'\n",
              "            + ' to learn more about interactive tables.';\n",
              "          element.innerHTML = '';\n",
              "          dataTable['output_type'] = 'display_data';\n",
              "          await google.colab.output.renderOutput(dataTable, element);\n",
              "          const docLink = document.createElement('div');\n",
              "          docLink.innerHTML = docLinkHtml;\n",
              "          element.appendChild(docLink);\n",
              "        }\n",
              "      </script>\n",
              "    </div>\n",
              "  </div>\n",
              "  "
            ],
            "text/plain": [
              "                                                date  ... cluster\n",
              "0                                       16 novemb...  ...       0\n",
              "1                                       16 novemb...  ...       0\n",
              "2                                       16 novemb...  ...       0\n",
              "3                                       16 novemb...  ...       0\n",
              "4                                       15 novemb...  ...       0\n",
              "\n",
              "[5 rows x 8 columns]"
            ]
          },
          "metadata": {},
          "execution_count": 113
        }
      ]
    },
    {
      "cell_type": "markdown",
      "source": [
        "## Apprentissage supervisé"
      ],
      "metadata": {
        "id": "n3VyAoEyawdj"
      }
    },
    {
      "cell_type": "code",
      "source": [
        "test_set['cluster']=test_bis['cluster'] "
      ],
      "metadata": {
        "id": "hoM2RNjhZb-Z"
      },
      "execution_count": null,
      "outputs": []
    },
    {
      "cell_type": "code",
      "source": [
        "cols_to_keep_train=['produit_cat','assureur_cat','cluster']"
      ],
      "metadata": {
        "id": "z9PJfcrEa-rJ"
      },
      "execution_count": null,
      "outputs": []
    },
    {
      "cell_type": "code",
      "source": [
        "X=test_set[cols_to_keep_train]"
      ],
      "metadata": {
        "id": "nEsdurHBZcAy"
      },
      "execution_count": null,
      "outputs": []
    },
    {
      "cell_type": "code",
      "source": [
        "pca = PCA(5)\n",
        "res = pca.fit_transform(test_vectorized_docs) # On recupere la vectorisation pour le mettre dans le test set"
      ],
      "metadata": {
        "id": "x5hM2NbxbML1"
      },
      "execution_count": null,
      "outputs": []
    },
    {
      "cell_type": "code",
      "source": [
        "for i in range(5):\n",
        "  X['ax'+str(i)]=[el[i] for el in res]"
      ],
      "metadata": {
        "colab": {
          "base_uri": "https://localhost:8080/"
        },
        "id": "5BQs0gFpbcrV",
        "outputId": "e835c2e4-9e3e-42c5-98d8-3c8e0d373823"
      },
      "execution_count": null,
      "outputs": [
        {
          "output_type": "stream",
          "name": "stderr",
          "text": [
            "/usr/local/lib/python3.7/dist-packages/ipykernel_launcher.py:2: SettingWithCopyWarning: \n",
            "A value is trying to be set on a copy of a slice from a DataFrame.\n",
            "Try using .loc[row_indexer,col_indexer] = value instead\n",
            "\n",
            "See the caveats in the documentation: https://pandas.pydata.org/pandas-docs/stable/user_guide/indexing.html#returning-a-view-versus-a-copy\n",
            "  \n"
          ]
        }
      ]
    },
    {
      "cell_type": "code",
      "source": [
        "X.head()"
      ],
      "metadata": {
        "colab": {
          "base_uri": "https://localhost:8080/",
          "height": 206
        },
        "id": "RboP2HtyZcDZ",
        "outputId": "de4cec0f-bd72-4733-e50f-c356400fcca2"
      },
      "execution_count": null,
      "outputs": [
        {
          "output_type": "execute_result",
          "data": {
            "text/html": [
              "\n",
              "  <div id=\"df-14559e5d-393b-4ef1-b073-1084d70608cf\">\n",
              "    <div class=\"colab-df-container\">\n",
              "      <div>\n",
              "<style scoped>\n",
              "    .dataframe tbody tr th:only-of-type {\n",
              "        vertical-align: middle;\n",
              "    }\n",
              "\n",
              "    .dataframe tbody tr th {\n",
              "        vertical-align: top;\n",
              "    }\n",
              "\n",
              "    .dataframe thead th {\n",
              "        text-align: right;\n",
              "    }\n",
              "</style>\n",
              "<table border=\"1\" class=\"dataframe\">\n",
              "  <thead>\n",
              "    <tr style=\"text-align: right;\">\n",
              "      <th></th>\n",
              "      <th>produit_cat</th>\n",
              "      <th>assureur_cat</th>\n",
              "      <th>cluster</th>\n",
              "      <th>ax0</th>\n",
              "      <th>ax1</th>\n",
              "      <th>ax2</th>\n",
              "      <th>ax3</th>\n",
              "      <th>ax4</th>\n",
              "    </tr>\n",
              "  </thead>\n",
              "  <tbody>\n",
              "    <tr>\n",
              "      <th>0</th>\n",
              "      <td>2</td>\n",
              "      <td>29</td>\n",
              "      <td>0</td>\n",
              "      <td>0.974181</td>\n",
              "      <td>-1.119236</td>\n",
              "      <td>0.605458</td>\n",
              "      <td>0.227694</td>\n",
              "      <td>-0.183600</td>\n",
              "    </tr>\n",
              "    <tr>\n",
              "      <th>1</th>\n",
              "      <td>2</td>\n",
              "      <td>29</td>\n",
              "      <td>0</td>\n",
              "      <td>1.624176</td>\n",
              "      <td>-0.009818</td>\n",
              "      <td>-0.281512</td>\n",
              "      <td>0.031769</td>\n",
              "      <td>-0.944597</td>\n",
              "    </tr>\n",
              "    <tr>\n",
              "      <th>2</th>\n",
              "      <td>2</td>\n",
              "      <td>29</td>\n",
              "      <td>0</td>\n",
              "      <td>2.570453</td>\n",
              "      <td>-0.430437</td>\n",
              "      <td>-0.744826</td>\n",
              "      <td>-0.123579</td>\n",
              "      <td>0.846269</td>\n",
              "    </tr>\n",
              "    <tr>\n",
              "      <th>3</th>\n",
              "      <td>2</td>\n",
              "      <td>29</td>\n",
              "      <td>0</td>\n",
              "      <td>1.902257</td>\n",
              "      <td>-0.368258</td>\n",
              "      <td>-0.392436</td>\n",
              "      <td>0.159538</td>\n",
              "      <td>-0.070822</td>\n",
              "    </tr>\n",
              "    <tr>\n",
              "      <th>4</th>\n",
              "      <td>2</td>\n",
              "      <td>29</td>\n",
              "      <td>0</td>\n",
              "      <td>0.501981</td>\n",
              "      <td>-1.558339</td>\n",
              "      <td>0.217051</td>\n",
              "      <td>-0.055696</td>\n",
              "      <td>-0.675768</td>\n",
              "    </tr>\n",
              "  </tbody>\n",
              "</table>\n",
              "</div>\n",
              "      <button class=\"colab-df-convert\" onclick=\"convertToInteractive('df-14559e5d-393b-4ef1-b073-1084d70608cf')\"\n",
              "              title=\"Convert this dataframe to an interactive table.\"\n",
              "              style=\"display:none;\">\n",
              "        \n",
              "  <svg xmlns=\"http://www.w3.org/2000/svg\" height=\"24px\"viewBox=\"0 0 24 24\"\n",
              "       width=\"24px\">\n",
              "    <path d=\"M0 0h24v24H0V0z\" fill=\"none\"/>\n",
              "    <path d=\"M18.56 5.44l.94 2.06.94-2.06 2.06-.94-2.06-.94-.94-2.06-.94 2.06-2.06.94zm-11 1L8.5 8.5l.94-2.06 2.06-.94-2.06-.94L8.5 2.5l-.94 2.06-2.06.94zm10 10l.94 2.06.94-2.06 2.06-.94-2.06-.94-.94-2.06-.94 2.06-2.06.94z\"/><path d=\"M17.41 7.96l-1.37-1.37c-.4-.4-.92-.59-1.43-.59-.52 0-1.04.2-1.43.59L10.3 9.45l-7.72 7.72c-.78.78-.78 2.05 0 2.83L4 21.41c.39.39.9.59 1.41.59.51 0 1.02-.2 1.41-.59l7.78-7.78 2.81-2.81c.8-.78.8-2.07 0-2.86zM5.41 20L4 18.59l7.72-7.72 1.47 1.35L5.41 20z\"/>\n",
              "  </svg>\n",
              "      </button>\n",
              "      \n",
              "  <style>\n",
              "    .colab-df-container {\n",
              "      display:flex;\n",
              "      flex-wrap:wrap;\n",
              "      gap: 12px;\n",
              "    }\n",
              "\n",
              "    .colab-df-convert {\n",
              "      background-color: #E8F0FE;\n",
              "      border: none;\n",
              "      border-radius: 50%;\n",
              "      cursor: pointer;\n",
              "      display: none;\n",
              "      fill: #1967D2;\n",
              "      height: 32px;\n",
              "      padding: 0 0 0 0;\n",
              "      width: 32px;\n",
              "    }\n",
              "\n",
              "    .colab-df-convert:hover {\n",
              "      background-color: #E2EBFA;\n",
              "      box-shadow: 0px 1px 2px rgba(60, 64, 67, 0.3), 0px 1px 3px 1px rgba(60, 64, 67, 0.15);\n",
              "      fill: #174EA6;\n",
              "    }\n",
              "\n",
              "    [theme=dark] .colab-df-convert {\n",
              "      background-color: #3B4455;\n",
              "      fill: #D2E3FC;\n",
              "    }\n",
              "\n",
              "    [theme=dark] .colab-df-convert:hover {\n",
              "      background-color: #434B5C;\n",
              "      box-shadow: 0px 1px 3px 1px rgba(0, 0, 0, 0.15);\n",
              "      filter: drop-shadow(0px 1px 2px rgba(0, 0, 0, 0.3));\n",
              "      fill: #FFFFFF;\n",
              "    }\n",
              "  </style>\n",
              "\n",
              "      <script>\n",
              "        const buttonEl =\n",
              "          document.querySelector('#df-14559e5d-393b-4ef1-b073-1084d70608cf button.colab-df-convert');\n",
              "        buttonEl.style.display =\n",
              "          google.colab.kernel.accessAllowed ? 'block' : 'none';\n",
              "\n",
              "        async function convertToInteractive(key) {\n",
              "          const element = document.querySelector('#df-14559e5d-393b-4ef1-b073-1084d70608cf');\n",
              "          const dataTable =\n",
              "            await google.colab.kernel.invokeFunction('convertToInteractive',\n",
              "                                                     [key], {});\n",
              "          if (!dataTable) return;\n",
              "\n",
              "          const docLinkHtml = 'Like what you see? Visit the ' +\n",
              "            '<a target=\"_blank\" href=https://colab.research.google.com/notebooks/data_table.ipynb>data table notebook</a>'\n",
              "            + ' to learn more about interactive tables.';\n",
              "          element.innerHTML = '';\n",
              "          dataTable['output_type'] = 'display_data';\n",
              "          await google.colab.output.renderOutput(dataTable, element);\n",
              "          const docLink = document.createElement('div');\n",
              "          docLink.innerHTML = docLinkHtml;\n",
              "          element.appendChild(docLink);\n",
              "        }\n",
              "      </script>\n",
              "    </div>\n",
              "  </div>\n",
              "  "
            ],
            "text/plain": [
              "   produit_cat  assureur_cat  cluster  ...       ax2       ax3       ax4\n",
              "0            2            29        0  ...  0.605458  0.227694 -0.183600\n",
              "1            2            29        0  ... -0.281512  0.031769 -0.944597\n",
              "2            2            29        0  ... -0.744826 -0.123579  0.846269\n",
              "3            2            29        0  ... -0.392436  0.159538 -0.070822\n",
              "4            2            29        0  ...  0.217051 -0.055696 -0.675768\n",
              "\n",
              "[5 rows x 8 columns]"
            ]
          },
          "metadata": {},
          "execution_count": 118
        }
      ]
    },
    {
      "cell_type": "markdown",
      "source": [
        "### Linear Regression"
      ],
      "metadata": {
        "id": "r29xZFrMblJ-"
      }
    },
    {
      "cell_type": "code",
      "source": [
        "predregrtest=fitregr.predict(X)\n",
        "predregrtest"
      ],
      "metadata": {
        "colab": {
          "base_uri": "https://localhost:8080/"
        },
        "id": "h_EYz5zfZcF3",
        "outputId": "d10aafa1-7670-4428-d1f3-4324d998e42f"
      },
      "execution_count": null,
      "outputs": [
        {
          "output_type": "execute_result",
          "data": {
            "text/plain": [
              "array([3.75707194, 3.82796656, 4.93478911, ..., 1.97246267, 1.93798464,\n",
              "       2.03066523])"
            ]
          },
          "metadata": {},
          "execution_count": 124
        }
      ]
    },
    {
      "cell_type": "markdown",
      "source": [
        "### Random Forest regressor"
      ],
      "metadata": {
        "id": "IS6bs1nVcXj9"
      }
    },
    {
      "cell_type": "code",
      "source": [
        "X=best_randomForest.predict(X)"
      ],
      "metadata": {
        "id": "EaGdL5Hgcaqz"
      },
      "execution_count": null,
      "outputs": []
    },
    {
      "cell_type": "code",
      "source": [
        "pd.DataFrame(X).to_csv('soumission_prediction.csv')"
      ],
      "metadata": {
        "id": "xGgYISkxcneR"
      },
      "execution_count": null,
      "outputs": []
    }
  ],
  "metadata": {
    "kernelspec": {
      "display_name": "Python 3",
      "language": "python",
      "name": "python3"
    },
    "language_info": {
      "codemirror_mode": {
        "name": "ipython",
        "version": 3
      },
      "file_extension": ".py",
      "mimetype": "text/x-python",
      "name": "python",
      "nbconvert_exporter": "python",
      "pygments_lexer": "ipython3",
      "version": "3.8.5"
    },
    "colab": {
      "name": "Projet_insurance_NLP.ipynb",
      "provenance": [],
      "collapsed_sections": [
        "7pg0GLZmnwdq",
        "l8TvfJyynwdt",
        "mC9hVaVTnwdu",
        "TWy75LR_nwdw",
        "JSzuosz5nwdy",
        "eEdO4Nkgy38A",
        "059wcYhezGAD",
        "A4XoMaWzLGAm",
        "5vyHyNcvJcRD",
        "tmPUMCeNJq0Y",
        "spSL_xRDKYMn",
        "9SQz5zuFKaqg"
      ]
    },
    "accelerator": "GPU"
  },
  "nbformat": 4,
  "nbformat_minor": 0
}